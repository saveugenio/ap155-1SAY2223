{
 "cells": [
  {
   "cell_type": "markdown",
   "id": "e430a767-2f3a-4fa1-ad74-6e374edc18ed",
   "metadata": {},
   "source": [
    "### Importing Packages"
   ]
  },
  {
   "cell_type": "code",
   "execution_count": 1,
   "id": "9a881fba-29ec-4975-9a38-cddebc997a01",
   "metadata": {},
   "outputs": [],
   "source": [
    "import numpy\n",
    "import scipy\n",
    "import pprint\n",
    "\n",
    "from numpy import linalg\n",
    "from numpy import random\n",
    "from scipy import linalg"
   ]
  },
  {
   "cell_type": "markdown",
   "id": "39839977-4065-4fe3-b754-3ad52800503e",
   "metadata": {},
   "source": [
    "### Note\n",
    "\n",
    "There are some codes where NumPy, SciPy, and other packages were not used. In some, these packages were only used for checking and comparing results. The author could simply have used them for faster computations but the author wanted to try to solve the problems manually using the built-in functions in Python."
   ]
  },
  {
   "cell_type": "markdown",
   "id": "b3dd3529-ce4c-4d2f-8c70-24fc3408ce14",
   "metadata": {},
   "source": [
    "# Solving Systems of Linear Equations"
   ]
  },
  {
   "cell_type": "markdown",
   "id": "766176aa-8b80-47a8-af17-4979fb74f8ad",
   "metadata": {},
   "source": [
    "## Matrix Equations as Systems of Linear Equations"
   ]
  },
  {
   "cell_type": "markdown",
   "id": "01270274-f553-4be9-976e-53241246199f",
   "metadata": {},
   "source": [
    "For natural-numbered constants ${m, n \\in \\mathbb{N}}$, a real vector constant ${\\vec{\\boldsymbol{v}} \\in \\mathbb{R}^{m}}$, a real vector variable ${\\vec{\\boldsymbol{x}}}$ in ${\\mathbb{R}^{n}}$ of ${n}$ real variables, and a real matrix constant ${\\boldsymbol{A} \\in \\mathbb{R}^{m \\times n}}$, a matrix equation given by:\n",
    "\n",
    "\\begin{equation}\n",
    "    \\boldsymbol{A} \\vec{\\boldsymbol{x}} = \\vec{\\boldsymbol{v}}\n",
    "\\end{equation}"
   ]
  },
  {
   "cell_type": "markdown",
   "id": "3f2cdf99-fbac-4104-870b-d7953e077271",
   "metadata": {},
   "source": [
    "For ${m = n}$, and the corresponding inverse matrix ${\\boldsymbol{A}^{-1} \\in \\mathbb{R}^{n \\times n}}$ of ${\\boldsymbol{A}}$, ${\\vec{\\boldsymbol{x}}}$ is given by:\n",
    "\n",
    "\\begin{equation}\n",
    "    \\boldsymbol{A} \\vec{\\boldsymbol{x}} = \\vec{\\boldsymbol{v}} \\iff \\vec{\\boldsymbol{x}} = \\boldsymbol{A}^{-1} \\vec{\\boldsymbol{v}}\n",
    "\\end{equation}"
   ]
  },
  {
   "cell_type": "code",
   "execution_count": 2,
   "id": "cb308ecb-8ce8-4665-80cc-32316eb5d7f5",
   "metadata": {},
   "outputs": [
    {
     "name": "stdout",
     "output_type": "stream",
     "text": [
      "array([[0.89866404, 0.38397806, 0.07749467],\n",
      "       [0.71601492, 0.3365267 , 0.41827888],\n",
      "       [0.04427912, 0.63363696, 0.4658499 ]])\n",
      "array([[0.89866404, 0.38397806, 0.07749467],\n",
      "       [0.        , 0.3365267 , 0.41827888],\n",
      "       [0.        , 0.        , 0.4658499 ]])\n",
      "array([[0.89866404, 0.        , 0.        ],\n",
      "       [0.71601492, 0.3365267 , 0.        ],\n",
      "       [0.04427912, 0.63363696, 0.4658499 ]])\n",
      "array([[0.47491169, 0.96314375, 0.05172548],\n",
      "       [0.52966196, 0.6055427 , 0.8530703 ],\n",
      "       [0.35901652, 0.01995703, 0.81696733]])\n",
      "array([0.39794781, 0.56561564, 0.6982833 ])\n"
     ]
    }
   ],
   "source": [
    "# Generating sample matrices and vectors.\n",
    "n = 3\n",
    "A = numpy.random.rand(n, n)\n",
    "B = numpy.random.rand(n, n)\n",
    "v = numpy.random.rand(n)\n",
    "A_upper_triangular = numpy.triu(A)\n",
    "A_lower_triangular = numpy.tril(A)\n",
    "\n",
    "test_A = A.tolist()\n",
    "test_B = B.tolist()\n",
    "test_v = v.tolist()\n",
    "test_A_upper_triangular = A_upper_triangular.tolist()\n",
    "test_A_lower_triangular = A_lower_triangular.tolist()\n",
    "\n",
    "pprint.pprint(A)\n",
    "pprint.pprint(A_upper_triangular)\n",
    "pprint.pprint(A_lower_triangular)\n",
    "pprint.pprint(B)\n",
    "pprint.pprint(v)"
   ]
  },
  {
   "cell_type": "markdown",
   "id": "8d5edad1-797d-4382-873e-20493eb976de",
   "metadata": {},
   "source": [
    "For natural-numbered indices ${i, j \\in \\mathbb{N}}$ such that ${i, j \\leq n}$, real constants ${a_{i, j}, v_{j} \\in \\mathbb{R}}$ such that ${\\boldsymbol{A} = \\left( a_{i, j} \\right)}$ and ${\\vec{\\boldsymbol{v}} = \\left( v_{j} \\right)}$, and real variables ${x_{j}}$ such that ${\\vec{\\boldsymbol{x}} = \\left( x_{j} \\right)}$,"
   ]
  },
  {
   "cell_type": "markdown",
   "id": "6d739a8b-8a7e-4b95-909a-fbeaf26041df",
   "metadata": {},
   "source": [
    "The ${n}$-dimensional zero vector ${\\vec{\\boldsymbol{0}}}$ is defined as:\n",
    "\n",
    "\\begin{equation}\n",
    "    \\vec{\\boldsymbol{0}} := \\left( v_{j} \\right), \\quad \\forall j \\colon \\quad v_{j} = 0\n",
    "\\end{equation}"
   ]
  },
  {
   "cell_type": "code",
   "execution_count": 3,
   "id": "c88749ca-65f1-4ca9-99aa-b5318017c273",
   "metadata": {},
   "outputs": [
    {
     "name": "stdout",
     "output_type": "stream",
     "text": [
      "[0.0, 0.0, 0.0]\n"
     ]
    }
   ],
   "source": [
    "def zero_vector(n):\n",
    "    \"\"\"\n",
    "    Creates an n-dimensional zero vector manually.\n",
    "    \n",
    "    where\n",
    "        n: (int), number of elements.\n",
    "    \"\"\"\n",
    "    result = []\n",
    "    for i in range(0, n, 1):\n",
    "        result.append(0.0)\n",
    "    return result\n",
    "\n",
    "pprint.pprint(zero_vector(n))"
   ]
  },
  {
   "cell_type": "markdown",
   "id": "f09dc179-1c9d-41ea-b004-c80efece7b68",
   "metadata": {},
   "source": [
    "The ${m}$ by ${n}$ zero matrix ${\\boldsymbol{0}}$ is defined as:\n",
    "\n",
    "\\begin{equation}\n",
    "    \\boldsymbol{0} := \\left( a_{i, j} \\right), \\quad \\forall i, j \\colon \\quad a_{i,j} = 0\n",
    "\\end{equation}"
   ]
  },
  {
   "cell_type": "code",
   "execution_count": 4,
   "id": "225ac2e0-79cf-4540-accd-01c8dde26e6f",
   "metadata": {},
   "outputs": [
    {
     "name": "stdout",
     "output_type": "stream",
     "text": [
      "[[0.0, 0.0, 0.0], [0.0, 0.0, 0.0], [0.0, 0.0, 0.0]]\n"
     ]
    }
   ],
   "source": [
    "def zero_matrix(m, n):\n",
    "    \"\"\"\n",
    "    Creates an m by n zero matrix manually.\n",
    "    \n",
    "    where\n",
    "        m: (int), number of rows.\n",
    "        n: (int), number of columns.\n",
    "    \"\"\"\n",
    "    result = []\n",
    "    for i in range(0, m, 1):\n",
    "        result.append([0.0] * n)\n",
    "    return result\n",
    "\n",
    "pprint.pprint(zero_matrix(n, n))"
   ]
  },
  {
   "cell_type": "markdown",
   "id": "5d3f8dab-a2d8-4ca5-b0c9-ed27ff4f8de8",
   "metadata": {},
   "source": [
    "For the discrete (also called Kronecker) delta function of ${i}$ and ${j}$, the ${n}$-dimensional identity matrix ${\\mathbb{1}}$ is defined as:\n",
    "\n",
    "\\begin{equation}\n",
    "    \\mathbb{1} := \\left( \\delta_{i, j} \\right), \\quad \\delta_{i, j} :=\n",
    "        \\begin{cases}\n",
    "            \\hfill 0, &\\quad i \\neq j\\\\\n",
    "            \\hfill 1, &\\quad i = j\n",
    "        \\end{cases}\n",
    "\\end{equation}"
   ]
  },
  {
   "cell_type": "code",
   "execution_count": 5,
   "id": "e795bbd0-d21b-489c-86cb-8a2f0527136c",
   "metadata": {},
   "outputs": [
    {
     "name": "stdout",
     "output_type": "stream",
     "text": [
      "[[1.0, 0.0, 0.0], [0.0, 1.0, 0.0], [0.0, 0.0, 1.0]]\n"
     ]
    }
   ],
   "source": [
    "def identity_matrix(n):\n",
    "    \"\"\"\n",
    "    Creates an n by n identity matrix manually.\n",
    "    \n",
    "    where\n",
    "        n: (int), number of rows and columns.\n",
    "    \"\"\"\n",
    "    result = zero_matrix(n, n)\n",
    "    for i in range (0, n, 1):\n",
    "        for j in range(0, n, 1):\n",
    "            if i == j:\n",
    "                result[i][j] = 1.0\n",
    "            else:\n",
    "                result[i][j] = 0.0\n",
    "    return result\n",
    "    \n",
    "pprint.pprint(identity_matrix(n))"
   ]
  },
  {
   "cell_type": "markdown",
   "id": "26861f89-ea30-405d-afaf-77545bd04f8b",
   "metadata": {},
   "source": [
    "The matrix product ${\\boldsymbol{Av} \\in \\mathbb{R}^{n}}$ is defined as:\n",
    "\n",
    "\\begin{equation}\n",
    "    \\boldsymbol{Av} := \\left( \\sum_{j = 1}^{n} \\left( a_{i, j} v_{j} \\right) \\right)\n",
    "\\end{equation}"
   ]
  },
  {
   "cell_type": "code",
   "execution_count": 6,
   "id": "dd6110a7-2f25-4de7-8e58-dbe5fdedf0f1",
   "metadata": {},
   "outputs": [
    {
     "name": "stdout",
     "output_type": "stream",
     "text": [
      "Using NumPy:\n",
      "array([0.62891861, 0.76735849, 0.70131096])\n",
      "Without using other packages:\n",
      "[0.6289186145444925, 0.7673584893555389, 0.7013109562403288]\n"
     ]
    }
   ],
   "source": [
    "def multiply_matrix_vector(A, v):\n",
    "    \"\"\"\n",
    "    Multiplies an m by n matrix to an n-dimensional vector v manually.\n",
    "    \n",
    "    where\n",
    "        A: (list), m by n matrix.\n",
    "        v: (list), n-dimensional vector.\n",
    "    \"\"\"\n",
    "    result = zero_vector(len(A))\n",
    "    for i in range(0, len(A), 1):\n",
    "        for j in range(0, len(A), 1):\n",
    "            result[i] += A[i][j] * v[j]\n",
    "    return result\n",
    "\n",
    "print(\"Using NumPy:\")\n",
    "pprint.pprint(numpy.matmul(A, v))\n",
    "\n",
    "print(\"Without using other packages:\")\n",
    "pprint.pprint(multiply_matrix_vector(test_A, test_v))"
   ]
  },
  {
   "cell_type": "markdown",
   "id": "4b927e30-1198-4475-9364-fa6cda263c38",
   "metadata": {},
   "source": [
    "For natural-numbered indices ${i, j, k \\in \\mathbb{N}}$, natural-numbered constants ${m, n, p \\in \\mathbb{N}}$, real constants ${a_{i, j}, b_{j, k} \\in \\mathbb{R}}$, two real matrix constants ${\\boldsymbol{A} \\in \\mathbb{R}^{m \\times p}}$ and ${\\boldsymbol{B} \\in \\mathbb{R}^{p \\times n}}$, the matrix product ${\\boldsymbol{AB} \\in \\mathbb{R}^{m \\times n}}$ is defined as:\n",
    "\n",
    "\\begin{equation}\n",
    "    \\boldsymbol{AB} := \\left( \\sum_{k = 1}^{p} \\left( a_{i, k} b_{k, j} \\right) \\right)\n",
    "\\end{equation}"
   ]
  },
  {
   "cell_type": "code",
   "execution_count": 7,
   "id": "5bca2607-a9fb-445c-80bf-7308e45e01a6",
   "metadata": {},
   "outputs": [
    {
     "name": "stdout",
     "output_type": "stream",
     "text": [
      "Using NumPy:\n",
      "array([[0.6579865 , 1.09960434, 0.43735472],\n",
      "       [0.66845828, 0.90175419, 0.66583733],\n",
      "       [0.52388987, 0.43563837, 0.92341138]])\n",
      "Without using other packages:\n",
      "[[0.6579865037587519, 1.0996043388973769, 0.4373547217550015],\n",
      " [0.6684582805288769, 0.9017541937973849, 0.6658373292051585],\n",
      " [0.5238898739273191, 0.435638372434521, 0.9234113794388834]]\n"
     ]
    }
   ],
   "source": [
    "def multiply_matrix(A, B):\n",
    "    \"\"\"\n",
    "    Multiplies an m by p matrix to an p by n matrix manually.\n",
    "    \n",
    "    where\n",
    "        A: (list), m by p matrix.\n",
    "        B: (list), p by n matrix.\n",
    "    \"\"\"\n",
    "    result = zero_matrix(len(A), len(B[0]))\n",
    "    for i in range(0, len(A), 1):\n",
    "        for j in range(0, len(B[0]), 1):\n",
    "            for k in range(0, len(B), 1):\n",
    "                result[i][j] += A[i][k] * B[k][j]\n",
    "    return result\n",
    "\n",
    "print(\"Using NumPy:\")\n",
    "pprint.pprint(numpy.matmul(A, B))\n",
    "\n",
    "print(\"Without using other packages:\")\n",
    "pprint.pprint(multiply_matrix(test_A, test_B))"
   ]
  },
  {
   "cell_type": "markdown",
   "id": "688ce82a-f89c-4bcb-a14c-102985fe35be",
   "metadata": {},
   "source": [
    "## Solving Matrix Equations Involving Lower and Upper and Triangular Matrices"
   ]
  },
  {
   "cell_type": "markdown",
   "id": "95447295-99a0-44fa-8916-ba17521a0b04",
   "metadata": {},
   "source": [
    "${1.}$ If ${\\boldsymbol{A}}$ is a lower triangular matrix, then for all ${j > 1}$, ${a_{i, j} = 0}$, and ${x_{i}}$ is given by:\n",
    "\n",
    "\\begin{equation}\n",
    "    x_{i} = \\frac{1}{a_{i, i}} \\left( v_{i} - \\sum_{k = 1}^{i - 1} \\left( a_{i, k} x_{k} \\right) \\right) \\iff x_{1} = \\frac{v_{1}}{a_{1, 1}}\n",
    "\\end{equation}"
   ]
  },
  {
   "cell_type": "code",
   "execution_count": 8,
   "id": "fe9a69aa-4139-4f66-a005-3f611ea15325",
   "metadata": {},
   "outputs": [
    {
     "name": "stdout",
     "output_type": "stream",
     "text": [
      "Using SciPy:\n",
      "array([0.44282155, 0.73857082, 0.45226967])\n",
      "Without using other packages:\n",
      "[0.44282155121895, 0.7385708205342945, 0.4522696723378249]\n"
     ]
    }
   ],
   "source": [
    "def solve_lower_triangular(A, v):\n",
    "    \"\"\"\n",
    "    Manually solves for x in the matrix equation A x = v.\n",
    "    \n",
    "    For n: (int), positive integer, where\n",
    "        A: (list), an n by n non-singular lower-triangular coefficient matrix.\n",
    "        v: (list), an n by 1 coefficient matrix.\n",
    "        x: (list), an n by 1 unknown matrix.\n",
    "    \"\"\"\n",
    "    x = zero_vector(len(v))\n",
    "    x[0] = v[0] / A[0][0]\n",
    "    for i in range(1, len(v), 1):\n",
    "        x[i] = (1 / A[i][i]) * (v[i] - sum(A[i][k] * x[k] for k in range(0, len(v), 1)))\n",
    "    return x\n",
    "\n",
    "print(\"Using SciPy:\")\n",
    "pprint.pprint(scipy.linalg.solve(A_lower_triangular, v))\n",
    "\n",
    "print(\"Without using other packages:\")\n",
    "pprint.pprint(solve_lower_triangular(test_A_lower_triangular, test_v))"
   ]
  },
  {
   "cell_type": "markdown",
   "id": "989ea108-4a65-4605-b4d6-25c24a8aa7d0",
   "metadata": {},
   "source": [
    "${2.}$ If ${\\boldsymbol{A}}$ is an upper triangular matrix, then for all ${i > j}$, ${a_{i, j} = 0}$, and ${x_{i}}$ is gievn by:\n",
    "\n",
    "\\begin{equation}\n",
    "    x_{i} = \\frac{1}{a_{i, i}} \\left( v_{i} - \\sum_{k = i + 1}^{n } \\left( a_{i, k} x_{k} \\right) \\right) \\iff x_{n} = \\frac{v_{n}}{a_{n, n}}\n",
    "\\end{equation}"
   ]
  },
  {
   "cell_type": "code",
   "execution_count": 9,
   "id": "9e3891eb-25ef-492b-9b02-437a9667075b",
   "metadata": {},
   "outputs": [
    {
     "name": "stdout",
     "output_type": "stream",
     "text": [
      "Using SciPy:\n",
      "array([ 0.39147115, -0.18233716,  1.49894483])\n",
      "Without using other packages:\n",
      "[0.39147114792065335, -0.18233715929217306, 1.4989448294987502]\n"
     ]
    }
   ],
   "source": [
    "def solve_upper_triangular(A, v):\n",
    "    \"\"\"\n",
    "    Manually solves for x in the matrix equation A x = v.\n",
    "    \n",
    "    For n: (int), positive integer, where\n",
    "        A: (list), an n by n non-singular upper-triangular coefficient matrix.\n",
    "        v: (list), an n by 1 coefficient matrix.\n",
    "        x: (list), an n by 1 unknown matrix.\n",
    "    \"\"\"\n",
    "    x = zero_vector(len(v))\n",
    "    x[-1] = v[-1] / A[-1][-1]\n",
    "    for i in range(len(v) - 2, -1, -1):\n",
    "        x[i] = (1 / A[i][i]) * (v[i] - sum(A[i][k] * x[k] for k in range(len(v) - 1, -1, -1)))\n",
    "    return x\n",
    "\n",
    "\n",
    "print(\"Using SciPy:\")\n",
    "pprint.pprint(scipy.linalg.solve(A_upper_triangular, v))\n",
    "\n",
    "print(\"Without using other packages:\")\n",
    "pprint.pprint(solve_upper_triangular(test_A_upper_triangular, test_v))"
   ]
  },
  {
   "cell_type": "markdown",
   "id": "aa4a779a-f00f-4abf-a73f-f489422df844",
   "metadata": {},
   "source": [
    "## Lower-Upper Triangular Matrix Decomposition of a Matrix with Pivoting"
   ]
  },
  {
   "cell_type": "markdown",
   "id": "60755070-ea55-4a4e-8a69-43e92a4dfc32",
   "metadata": {},
   "source": [
    "For real constants ${l_{i, j}, u_{i, j} \\in \\mathbb{R}}$, two real matrices ${\\boldsymbol{L}, \\boldsymbol{U} \\in \\mathbb{R}^{n \\times n}}$ such that ${\\boldsymbol{L}}$ is a lower triangular matrix given by ${\\boldsymbol{L} = \\left( l_{i, j} \\right)}$ and ${\\boldsymbol{U}}$ is an upper triangular matrix given by ${\\boldsymbol{U} = \\left( u_{i, j} \\right)}$, ${\\boldsymbol{A}}$ can be expressed as the matrix product ${\\boldsymbol{LU}}$ given by:\n",
    "\n",
    "\\begin{equation}\n",
    "    \\boldsymbol{A} = \\boldsymbol{LU} \\iff\n",
    "        \\begin{cases}\n",
    "            \\hfill u_{i, j} \\mkern-10mu &= a_{i, j} - \\displaystyle \\sum_{k = 1}^{i - 1} \\left( u_{k, j} l_{i, k} \\right)\\\\\n",
    "            \\hfill l_{i, j} \\mkern-10mu &= \\dfrac{1}{u_{j, j}} \\left( a_{i, j} - \\displaystyle \\sum_{k = 1}^{j - 1} \\left( u_{k, j} l_{i, k} \\right) \\right)\n",
    "        \\end{cases}\n",
    "\\end{equation}\n",
    "\n"
   ]
  },
  {
   "cell_type": "code",
   "execution_count": 10,
   "id": "2fa2c53a-1e74-4acf-b58f-c17efa819b8b",
   "metadata": {},
   "outputs": [
    {
     "name": "stdout",
     "output_type": "stream",
     "text": [
      "Using NumPy and SciPy:\n",
      "array([[0.89866404, 0.38397806, 0.07749467],\n",
      "       [0.04427912, 0.63363696, 0.4658499 ],\n",
      "       [0.71601492, 0.3365267 , 0.41827888]])\n",
      "Without using other packages:\n",
      "[[1.0, 0.0, 0.0], [0.0, 0.0, 1.0], [0.0, 1.0, 0.0]]\n",
      "[[1.0, 0.0, 0.0],\n",
      " [0.04927215699162315, 0.9999999999999999, 0.0],\n",
      " [0.7967548358052117, 0.04976321898532339, 1.0]]\n",
      "[[0.8986640426439828, 0.3839780645838825, 0.07749466708859598],\n",
      " [0.0, 0.6147175326172449, 0.46203156962763575],\n",
      " [0.0, 0.0, 0.3335424511271945]]\n",
      "[[0.8986640426439828, 0.3839780645838825, 0.07749466708859598],\n",
      " [0.04427911579188104, 0.6336369600967615, 0.46584989903043855],\n",
      " [0.7160149217408542, 0.3365267029900839, 0.41827888005666103]]\n"
     ]
    }
   ],
   "source": [
    "def solve_pivot_lower_upper(A):\n",
    "    \"\"\"\n",
    "    Manually solves for the lower-upper triangular decomposition of a matrix with pivoting.\n",
    "    \n",
    "    Where\n",
    "        A: (list), an n by n non-singular upper-triangular coefficient matrix.\n",
    "    \"\"\"\n",
    "    n = len(A)\n",
    "    P = identity_matrix(n)\n",
    "    L = zero_matrix(n, n)\n",
    "    U = zero_matrix(n, n)\n",
    "    for j in range(0, n, 1):\n",
    "        i = max(range(j, n, 1), key = lambda i: abs(A[i][j]))\n",
    "        if j != i:\n",
    "            P[j], P[i] = P[i], P[j]\n",
    "    PA = multiply_matrix(P, A)                                                                                                                                                                                                                    \n",
    "    for j in range(n):                                                                                                                                                                                 \n",
    "        for i in range(0, j + 1, 1):\n",
    "            U[i][j] = PA[i][j] - sum(U[k][j] * L[i][k] for k in range(i))                                                                                                                                                               \n",
    "        for i in range(j, n, 1):\n",
    "            L[i][j] = (1 / U[j][j]) * (PA[i][j] - sum(U[k][j] * L[i][k] for k in range(j)))\n",
    "    return P, L, U\n",
    "\n",
    "print(\"Using NumPy and SciPy:\")\n",
    "P1, L1, U1 = scipy.linalg.lu(A)\n",
    "pprint.pprint(numpy.matmul(L1, U1))\n",
    "\n",
    "print(\"Without using other packages:\")\n",
    "P2, L2, U2 = solve_pivot_lower_upper(test_A)\n",
    "pprint.pprint(P2)\n",
    "pprint.pprint(L2)\n",
    "pprint.pprint(U2)\n",
    "pprint.pprint(multiply_matrix(L2, U2))"
   ]
  },
  {
   "cell_type": "markdown",
   "id": "d7f4ed09-d406-4dc3-a639-fe1e342f634d",
   "metadata": {},
   "source": [
    "This implies that ${\\boldsymbol{A} \\vec{\\boldsymbol{x}} = \\vec{\\boldsymbol{v}}}$ is given by:\n",
    "\n",
    "\\begin{align*}\n",
    "    \\boldsymbol{A} \\vec{\\boldsymbol{x}} = \\vec{\\boldsymbol{v}} &\\iff \\boldsymbol{LU} \\vec{\\boldsymbol{x}} = \\vec{\\boldsymbol{v}}\\\\\n",
    "    &\\iff \\vec{\\boldsymbol{x}} = \\boldsymbol{U}^{-1} \\boldsymbol{L}^{-1} \\vec{\\boldsymbol{v}}\\\\\n",
    "\\end{align*}"
   ]
  },
  {
   "cell_type": "code",
   "execution_count": 11,
   "id": "db1a5524-e940-492d-8a56-a679a5a53015",
   "metadata": {},
   "outputs": [
    {
     "name": "stdout",
     "output_type": "stream",
     "text": [
      "Using SciPy:\n",
      "array([0.12235625, 0.62006155, 0.6439232 ])\n",
      "Without using other packages:\n",
      "[0.12235624663496461, 0.6200615450227276, 0.6439232019257749]\n"
     ]
    }
   ],
   "source": [
    "def solve_matrix_pivot_lower_upper(A, v):\n",
    "    \"\"\"\n",
    "    Solves for x in the matrix equation A x = v using LU decomposition.\n",
    "    \n",
    "    For n: (int), positive integer, where\n",
    "        A: (list), an n by n non-singular coefficient matrix.\n",
    "        v: (list), an n by 1 coefficient matrix.\n",
    "        x: (list), an n by 1 unknown matrix.\n",
    "    \"\"\"\n",
    "    P, L, U = solve_pivot_lower_upper(A)\n",
    "    Pv = multiply_matrix_vector(P, v)\n",
    "    x = solve_upper_triangular(U, solve_lower_triangular(L, Pv))\n",
    "    return x\n",
    "\n",
    "print(\"Using SciPy:\")\n",
    "pprint.pprint(scipy.linalg.solve(A, v))\n",
    "\n",
    "print(\"Without using other packages:\")\n",
    "pprint.pprint(solve_matrix_pivot_lower_upper(test_A, test_v))"
   ]
  },
  {
   "cell_type": "code",
   "execution_count": null,
   "id": "cc7194ea-31b3-4e10-ac67-7752bdc97250",
   "metadata": {},
   "outputs": [],
   "source": []
  }
 ],
 "metadata": {
  "kernelspec": {
   "display_name": "Python 3 (ipykernel)",
   "language": "python",
   "name": "python3"
  },
  "language_info": {
   "codemirror_mode": {
    "name": "ipython",
    "version": 3
   },
   "file_extension": ".py",
   "mimetype": "text/x-python",
   "name": "python",
   "nbconvert_exporter": "python",
   "pygments_lexer": "ipython3",
   "version": "3.9.12"
  }
 },
 "nbformat": 4,
 "nbformat_minor": 5
}
