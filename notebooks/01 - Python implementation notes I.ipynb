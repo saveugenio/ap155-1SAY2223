{
 "cells": [
  {
   "cell_type": "markdown",
   "id": "606dfdaf",
   "metadata": {},
   "source": [
    "# <center> A random collection of Python implementation notes I </center>\n",
    "\n",
    "Here, we shall learn a random collection of useful **Python** and **Jupyter** tips, tricks and implementation details that I have learned and may not have been tackled in [CP] or [PfCP]. In this part, we shall be concentrating on the Python-side of things. Part II will concern itself with Jupyter and the standard scientific computing library."
   ]
  },
  {
   "cell_type": "markdown",
   "id": "361f1995",
   "metadata": {},
   "source": [
    "## <center> Dynamic typing and Python protocols </center>\n",
    "\n",
    "To peel away at the mysteries of Python's dynamic typing, one must understand first that Python is an object-oriented programming (OOP) language. The central object (*ba-dum-tss*) of any OOP is the **object**, which has two parts: **fields** and **methods**. Fields are properties which may be read, copied and mutated. These may be integers, strings, or lists of data. These fields are to be manipulated and mutated by a set of instructions, called methods.\n",
    "\n",
    "Python, as a matter of fact, may be the *most* object-oriented language out there. This is because, in Python, there is effectively only one variable type: **objects**. That is...\n",
    "\n",
    "### <center> Everything<sup>(almost)</sup> in Python is an object! </center>\n",
    "\n",
    "Integers, strings and lists in Python are all objects. What you are actually doing when you define an integer, say"
   ]
  },
  {
   "cell_type": "code",
   "execution_count": 1,
   "id": "7f4207b4",
   "metadata": {},
   "outputs": [],
   "source": [
    "a = 2"
   ]
  },
  {
   "cell_type": "markdown",
   "id": "5656af96",
   "metadata": {},
   "source": [
    "... is defining an *object*, with all sorts of properties and functions. Don't believe me? Look!"
   ]
  },
  {
   "cell_type": "code",
   "execution_count": 2,
   "id": "cdebbede",
   "metadata": {},
   "outputs": [
    {
     "name": "stdout",
     "output_type": "stream",
     "text": [
      "2\n",
      "True\n",
      "2.0\n"
     ]
    }
   ],
   "source": [
    "print(a.__str__())\n",
    "print(a.__bool__())\n",
    "print(a.__float__())"
   ]
  },
  {
   "cell_type": "markdown",
   "id": "6898aba7",
   "metadata": {},
   "source": [
    "By define an integer two, we have also defined it's string value, boolean and float, revealed by calling this special functions. But wait a minute... when these functions returns a string or a float... aren't these Python-ic objects as well? Yes."
   ]
  },
  {
   "cell_type": "code",
   "execution_count": 3,
   "id": "b5cda8f7",
   "metadata": {},
   "outputs": [
    {
     "data": {
      "text/plain": [
       "True"
      ]
     },
     "execution_count": 3,
     "metadata": {},
     "output_type": "execute_result"
    }
   ],
   "source": [
    "a.__float__().__bool__()"
   ]
  },
  {
   "cell_type": "markdown",
   "id": "471b502a",
   "metadata": {},
   "source": [
    "Is this a case of 'Turtles all the way down,' except with objects? Nope! \n",
    "\n",
    "The fields of integers, strings and lists you'd expect from statically-typed programming languages is the purview of your Python interpreter (most likely CPython), and you cannot get at them by any normal means. You can only call functions which, behind the scenes, reads these fields, and spits out a Python object. \n",
    "\n",
    "By the very design philosophy of Python, you as a user are only supposed to ever interact with dynamically-typed Python objects. Of course, Python knows the intent of what you have defined. You can simply check the variable type."
   ]
  },
  {
   "cell_type": "code",
   "execution_count": 4,
   "id": "087a1912",
   "metadata": {},
   "outputs": [
    {
     "data": {
      "text/plain": [
       "int"
      ]
     },
     "execution_count": 4,
     "metadata": {},
     "output_type": "execute_result"
    }
   ],
   "source": [
    "type(a)"
   ]
  },
  {
   "cell_type": "markdown",
   "id": "40978935",
   "metadata": {},
   "source": [
    "Each classic data type (such as strings, integers, floats, and lists) are all Pythonic objects, and within each of those objects are functions defining how they may be added, subtracted or multiplied."
   ]
  },
  {
   "cell_type": "code",
   "execution_count": 5,
   "id": "eb309bdc",
   "metadata": {},
   "outputs": [],
   "source": [
    "a_adder = a.__add__\n",
    "a_subtracter = a.__sub__\n",
    "a_multiplier = a.__mul__"
   ]
  },
  {
   "cell_type": "markdown",
   "id": "59708426",
   "metadata": {},
   "source": [
    "These are the functions responsible for figuring out what to do when an integer is multiplied to a string. There is a lot going on behind the scenes when one types and evaluates"
   ]
  },
  {
   "cell_type": "code",
   "execution_count": 6,
   "id": "0788cc63",
   "metadata": {},
   "outputs": [
    {
     "name": "stdout",
     "output_type": "stream",
     "text": [
      "MessageMessage\n"
     ]
    }
   ],
   "source": [
    "a = 2\n",
    "string = \"Message\"\n",
    "print(a * string)"
   ]
  },
  {
   "cell_type": "markdown",
   "id": "bbd643ad",
   "metadata": {},
   "source": [
    "It first gets the multiplier of **a**, and tries to input **string**, as in"
   ]
  },
  {
   "cell_type": "code",
   "execution_count": 7,
   "id": "a7afd4eb",
   "metadata": {},
   "outputs": [
    {
     "data": {
      "text/plain": [
       "NotImplemented"
      ]
     },
     "execution_count": 7,
     "metadata": {},
     "output_type": "execute_result"
    }
   ],
   "source": [
    "a.__mul__(string)"
   ]
  },
  {
   "cell_type": "markdown",
   "id": "94558054",
   "metadata": {},
   "source": [
    "This exercise reveals an integer object does not know how to multiply strings. However, string objects know. And thus, this is what is kept when one multiplies an integer and a string."
   ]
  },
  {
   "cell_type": "code",
   "execution_count": 8,
   "id": "c2ea562f",
   "metadata": {},
   "outputs": [
    {
     "data": {
      "text/plain": [
       "'MessageMessage'"
      ]
     },
     "execution_count": 8,
     "metadata": {},
     "output_type": "execute_result"
    }
   ],
   "source": [
    "string.__mul__(a)"
   ]
  },
  {
   "cell_type": "markdown",
   "id": "9dc6d242",
   "metadata": {},
   "source": [
    "Well, not exactly. What is being called *technically* is string.\\_\\_rmul\\_\\_(a), since (**a** \\* **string**) failed, so it's doing the symmetric operation (**string** * **a**). \n",
    "\n",
    "Anyways, notice that **a** should have a string field, and yet you cannot add **a** and **string** together."
   ]
  },
  {
   "cell_type": "code",
   "execution_count": 9,
   "id": "54d8c6c6",
   "metadata": {},
   "outputs": [
    {
     "ename": "TypeError",
     "evalue": "unsupported operand type(s) for +: 'int' and 'str'",
     "output_type": "error",
     "traceback": [
      "\u001b[0;31m---------------------------------------------------------------------------\u001b[0m",
      "\u001b[0;31mTypeError\u001b[0m                                 Traceback (most recent call last)",
      "\u001b[0;32m/tmp/ipykernel_5636/2052786909.py\u001b[0m in \u001b[0;36m<module>\u001b[0;34m\u001b[0m\n\u001b[0;32m----> 1\u001b[0;31m \u001b[0ma\u001b[0m \u001b[0;34m+\u001b[0m \u001b[0mstring\u001b[0m\u001b[0;34m\u001b[0m\u001b[0;34m\u001b[0m\u001b[0m\n\u001b[0m",
      "\u001b[0;31mTypeError\u001b[0m: unsupported operand type(s) for +: 'int' and 'str'"
     ]
    }
   ],
   "source": [
    "a + string"
   ]
  },
  {
   "cell_type": "markdown",
   "id": "dc2cea95",
   "metadata": {},
   "source": [
    "It is in this sense that Python is said to be a **strongly typed language**. That is, although it should in principle be able to add **a** and **string** together to yield a string '2Message', Python refuses to do such a thing and raises an error.\n",
    "\n",
    "This is, again, one of the many design choices made by the developers of Python. When ints and strings multiply, Python assumes that you know what you are doing. When they add, Python assumes that something has gone wrong, and so raises an error. You'd need to go through the trouble of converting the integer into a string first if it is your desire to get the string '2Message'"
   ]
  },
  {
   "cell_type": "code",
   "execution_count": null,
   "id": "cff05dba",
   "metadata": {},
   "outputs": [],
   "source": [
    "str(a) + string"
   ]
  },
  {
   "cell_type": "markdown",
   "id": "48bde1b5",
   "metadata": {},
   "source": [
    "A lot of unintuitive things may arise when two different variable types collide. Consider,"
   ]
  },
  {
   "cell_type": "code",
   "execution_count": null,
   "id": "00ac5f10",
   "metadata": {},
   "outputs": [],
   "source": [
    "print(False * 2)\n",
    "print(True * 2)"
   ]
  },
  {
   "cell_type": "markdown",
   "id": "7ca5cf0f",
   "metadata": {},
   "source": [
    "One may roughly understand the above as the following. The field of a **False** boolean Python object under integers is 0, whereas the field of a **True** boolean Pythonic object under integers is 1."
   ]
  },
  {
   "cell_type": "code",
   "execution_count": null,
   "id": "e731c511",
   "metadata": {},
   "outputs": [],
   "source": [
    "print(False.__int__())\n",
    "print(True.__int__())"
   ]
  },
  {
   "cell_type": "markdown",
   "id": "06241227",
   "metadata": {},
   "source": [
    "Thus, when Python tries to parse the above operations, what it eventually sees when it does all the checking and cross checking of variable types and operations is the basic integer multiplication of 0 * 2 and 1 * 2. This is also why the following occurs:"
   ]
  },
  {
   "cell_type": "code",
   "execution_count": null,
   "id": "a4841b08",
   "metadata": {},
   "outputs": [],
   "source": [
    "n = int(input(\"Input any non-zero integer: \"))\n",
    "if n:\n",
    "    print(\"True\")\n",
    "else:\n",
    "    print(\"False\")\n",
    "    \n",
    "n = int(input(\"Now input 0: \"))\n",
    "if n:\n",
    "    print(\"True\")\n",
    "else:\n",
    "    print(\"False\")"
   ]
  },
  {
   "cell_type": "markdown",
   "id": "4fa83261",
   "metadata": {},
   "source": [
    "The **if** function expects a boolean. So it peeks under the hood, checks the boolean field of the object inputted, and evaluates. We can just check how these are implemented behind the scenes."
   ]
  },
  {
   "cell_type": "code",
   "execution_count": null,
   "id": "9406802c",
   "metadata": {
    "scrolled": false
   },
   "outputs": [],
   "source": [
    "n = int(input(\"Input any non-zero integer: \"))\n",
    "print(n.__bool__())\n",
    "    \n",
    "n = int(input(\"Now input 0: \"))\n",
    "print(n.__bool__())"
   ]
  },
  {
   "cell_type": "markdown",
   "id": "250678fd",
   "metadata": {},
   "source": [
    "As a final note, notice that the functions we had called here are all surrounded with double underscores. These are called **Python protocols**. The ones we've discussed here are *numeric emulation*-type Python protocols, which are called whenever binary (takes two inputs) arithmetic operations like + or - are used.\n",
    "\n",
    "For example, \\_\\_mul\\_\\_() gets called whenever an operation has a * in it. It is in this manner that you can define operations of more complicated objects.\n",
    "\n",
    "This is also why you can add numpy lists together and multiply scalar values to them, in the way you expect vectors to behave."
   ]
  },
  {
   "cell_type": "code",
   "execution_count": null,
   "id": "88bc5945",
   "metadata": {},
   "outputs": [],
   "source": [
    "import numpy as np\n",
    "\n",
    "start = 0\n",
    "end = 1\n",
    "n = 1000\n",
    "\n",
    "vec_1 = np.linspace(start, end, n)\n",
    "vec_2 = np.linspace(start, 2*end, n)\n",
    "\n",
    "print( (vec_1+vec_2)[0:10] )\n",
    "print( (3*vec_1)[0:10] )"
   ]
  },
  {
   "cell_type": "markdown",
   "id": "63369997",
   "metadata": {},
   "source": [
    "These definitions and behaviours are defined for each variable type at C-level. Somewhere in the definition of the numpy array object is it interfacing with the C API of Python. Everytime a user tries to generate one, the Python interpreter reads this C code and creates a Python object with the correct \\_\\_add\\_\\_() and \\_\\_mul\\_\\_() Python protocols."
   ]
  },
  {
   "cell_type": "code",
   "execution_count": null,
   "id": "da906271",
   "metadata": {},
   "outputs": [],
   "source": [
    "vec_1.__add__"
   ]
  },
  {
   "cell_type": "markdown",
   "id": "0fe952ff",
   "metadata": {},
   "source": [
    "This behaviour is distinct to how Python arrays would behave."
   ]
  },
  {
   "cell_type": "code",
   "execution_count": null,
   "id": "e77d1cb4",
   "metadata": {},
   "outputs": [],
   "source": [
    "array_1 = [1,2,3]\n",
    "array_2 = [4,5,6]\n",
    "\n",
    "print(array_1+array_2)\n",
    "print( 3 * array_2 )"
   ]
  },
  {
   "cell_type": "markdown",
   "id": "a75511b3",
   "metadata": {},
   "source": [
    "Python assumes that with default Python arrays, you are a computer scientist trying to concatenate lists together. With NumPy, they're assuming you're doing numerical work, so it is more natural that they behave more like vectors.\n",
    "\n",
    "This fact (that you can define operations for Python objects) might save you a lot of time and head-ache in the future, especially if you are going to wrap legacy C++ code written 50 years ago with a Python interface lol\n",
    "\n",
    "There are others, related to for example augmented arithmetic assignments (your '+=' operators) and unary operations like taking the negative of a numeric object. Your str() and bool() functions are simply special keywords that call the string Python protocol \\_\\_str\\_\\_() and bool Python protocol \\_\\_bool\\_\\_().\n",
    "\n",
    "You don't need to learn Python's C API to define such behaviours. One can simply \"overload\" (a fancy computer science term for \"overwrite\") these functions by defining objects with these Python protocols."
   ]
  },
  {
   "cell_type": "code",
   "execution_count": 3,
   "id": "7ba058d9",
   "metadata": {},
   "outputs": [
    {
     "name": "stdout",
     "output_type": "stream",
     "text": [
      "wow\n"
     ]
    }
   ],
   "source": [
    "class ImmovableInt:\n",
    "    def __init__(self, n):\n",
    "        self.int = n\n",
    "    \n",
    "    def __str__(self):\n",
    "        return str(\"wow\")\n",
    "    \n",
    "    def __add__(self, other):\n",
    "        return self.int\n",
    "    \n",
    "    def __radd__(self,other):\n",
    "        return self.int\n",
    "    \n",
    "a = ImmovableInt(5)"
   ]
  },
  {
   "cell_type": "markdown",
   "id": "627a024b",
   "metadata": {},
   "source": [
    "## <center> String formatting </center>\n",
    "\n",
    "Now that we know that everything is an object in Python, we may now discuss built-in methods for these objects which may be particularly useful. One basic function, but may change your Python life, is the **format** function for strings. Consider the following function:"
   ]
  },
  {
   "cell_type": "code",
   "execution_count": 10,
   "id": "ea6bd94a",
   "metadata": {},
   "outputs": [
    {
     "name": "stdout",
     "output_type": "stream",
     "text": [
      "Input first integer: 1\n",
      "Input second integer: 2\n",
      "3\n"
     ]
    }
   ],
   "source": [
    "def print_sum():\n",
    "    \"\"\"\n",
    "    Gets two integers and prints out their sum\n",
    "    \"\"\"\n",
    "    a = int(input(\"Input first integer: \"))\n",
    "    b = int(input(\"Input second integer: \"))\n",
    "    \n",
    "    print(a+b)\n",
    "    \n",
    "print_sum()"
   ]
  },
  {
   "cell_type": "markdown",
   "id": "d2560a2e",
   "metadata": {},
   "source": [
    "Notice that the output of the function is not particularly readable. What is 3? One naive way of dealing with this is the following:"
   ]
  },
  {
   "cell_type": "code",
   "execution_count": 11,
   "id": "cedab2b3",
   "metadata": {},
   "outputs": [
    {
     "name": "stdout",
     "output_type": "stream",
     "text": [
      "Input first integer: 1\n",
      "Input second integer: 2\n",
      "The sum is 3\n"
     ]
    }
   ],
   "source": [
    "def print_sum():\n",
    "    \"\"\"\n",
    "    Gets two integers and prints out their sum with a message\n",
    "    \"\"\"\n",
    "    a = int(input(\"Input first integer: \"))\n",
    "    b = int(input(\"Input second integer: \"))\n",
    "    \n",
    "    string = \"The sum is \" + str(a+b) #convert a + b into a string\n",
    "    \n",
    "    print(string)\n",
    "    \n",
    "print_sum()"
   ]
  },
  {
   "cell_type": "markdown",
   "id": "8d206d6a",
   "metadata": {},
   "source": [
    "Suppose we wish to also say what the first integer is and the second integer is. This naive way is on its way to being incredibly unreadable and unmaintainable."
   ]
  },
  {
   "cell_type": "code",
   "execution_count": 12,
   "id": "87052d60",
   "metadata": {},
   "outputs": [
    {
     "name": "stdout",
     "output_type": "stream",
     "text": [
      "Input first integer: 1\n",
      "Input second integer: 2\n",
      "The first integer is 1. The second integer is 2. The sum is 3\n"
     ]
    }
   ],
   "source": [
    "def print_sum():\n",
    "    \"\"\"\n",
    "    Gets two integers and prints out their sum with a message\n",
    "    which includes what the inputs were\n",
    "    \"\"\"\n",
    "    a = int(input(\"Input first integer: \"))\n",
    "    b = int(input(\"Input second integer: \"))\n",
    "    \n",
    "    string = \"The first integer is \" + str(a) + \". The second integer is \" + str(b) + \". The sum is \" + str(a+b)\n",
    "    \n",
    "    print(string)\n",
    "    \n",
    "print_sum()"
   ]
  },
  {
   "cell_type": "markdown",
   "id": "c34acf26",
   "metadata": {},
   "source": [
    "Enter the **format** function. The Pythonic idiom is quite simple. One places a pair of empty curly braces, and follow the string with a function call to **format**, and the order of appearance of each curly brace pair corresponds to the appearance of the inputs of the function."
   ]
  },
  {
   "cell_type": "code",
   "execution_count": 13,
   "id": "71288b1f",
   "metadata": {},
   "outputs": [
    {
     "name": "stdout",
     "output_type": "stream",
     "text": [
      "Input first integer: 1\n",
      "Input second integer: 2\n",
      "The first integer is 1. The second integer is 2. The sum is 3.\n"
     ]
    }
   ],
   "source": [
    "def print_sum():\n",
    "    \"\"\"\n",
    "    Gets two integers and prints out their sum with a message\n",
    "    which includes what the inputs were, using format\n",
    "    \"\"\"\n",
    "    a = int(input(\"Input first integer: \"))\n",
    "    b = int(input(\"Input second integer: \"))\n",
    "    \n",
    "    string = \"The first integer is {}. The second integer is {}. The sum is {}.\".format(a,b,a+b)\n",
    "    \n",
    "    print(string)\n",
    "    \n",
    "print_sum()"
   ]
  },
  {
   "cell_type": "markdown",
   "id": "abc964d8",
   "metadata": {},
   "source": [
    "One may index them, by placing numbers inside the curly braces corresponding to the location of the input inside **format**. This is useful if you wish to reuse the same variable in the same text."
   ]
  },
  {
   "cell_type": "code",
   "execution_count": 14,
   "id": "4817b823",
   "metadata": {},
   "outputs": [
    {
     "name": "stdout",
     "output_type": "stream",
     "text": [
      "Input first integer: 1\n",
      "Input second integer: 2\n",
      "The first integer is 1. The second integer is 2. The sum is 3. By the way, the first number is 1\n"
     ]
    }
   ],
   "source": [
    "def print_sum():\n",
    "    \"\"\"\n",
    "    Gets two integers and prints out their sum with a message\n",
    "    which includes what the inputs were, using format and indexing\n",
    "    \"\"\"\n",
    "    a = int(input(\"Input first integer: \"))\n",
    "    b = int(input(\"Input second integer: \"))\n",
    "    \n",
    "    string = \"The first integer is {0}. The second integer is {1}. The sum is {2}. \"\\\n",
    "                \"By the way, the first number is {0}\".format(a,b,a+b)\n",
    "    \n",
    "    print(string)\n",
    "    \n",
    "print_sum()"
   ]
  },
  {
   "cell_type": "markdown",
   "id": "461b1320",
   "metadata": {},
   "source": [
    "In fact, just to aid readability one can name these variables inside the curly braces. We can now rearrange the inputs freely, and still have the code readable and working properly!"
   ]
  },
  {
   "cell_type": "code",
   "execution_count": 15,
   "id": "b9a01688",
   "metadata": {},
   "outputs": [
    {
     "name": "stdout",
     "output_type": "stream",
     "text": [
      "Input first integer: 1\n",
      "Input second integer: 2\n",
      "The first integer is 1. The second integer is 2. The sum is 3. By the way, the first number is 1\n"
     ]
    }
   ],
   "source": [
    "def print_sum():\n",
    "    \"\"\"\n",
    "    Gets two integers and prints out their sum with a message\n",
    "    which includes what the inputs were, using format and naming\n",
    "    \"\"\"\n",
    "    a = int(input(\"Input first integer: \"))\n",
    "    b = int(input(\"Input second integer: \"))\n",
    "    \n",
    "    string = \"The first integer is {first}. The second integer is {second}. The sum is {SUM}. \"\\\n",
    "                \"By the way, the first number is {first}\".format(second = b, SUM = a+b, first = a)\n",
    "    \n",
    "    print(string)\n",
    "    \n",
    "print_sum()"
   ]
  },
  {
   "cell_type": "markdown",
   "id": "f4584e49",
   "metadata": {},
   "source": [
    "## <center> Assignments and multiple assignments </center>\n",
    "\n",
    "Part of the usefulness of Python is the primacy of readability in its design. One of the key features in Python is how one can unpack, pack and manipulate sets of data intuitively. Consider the following piece of code, which mimicks roughly how one would usually write something in Java or C++."
   ]
  },
  {
   "cell_type": "code",
   "execution_count": 16,
   "id": "e30beaa0",
   "metadata": {},
   "outputs": [
    {
     "name": "stdout",
     "output_type": "stream",
     "text": [
      "15\n"
     ]
    }
   ],
   "source": [
    "#defns\n",
    "numbers = [1, 2, 3, 4, 5]\n",
    "\n",
    "#calc\n",
    "n = len(numbers)\n",
    "SUM = 0\n",
    "for i in range(n):\n",
    "    SUM += numbers[i]\n",
    "print(SUM)"
   ]
  },
  {
   "cell_type": "markdown",
   "id": "e3583ce8",
   "metadata": {},
   "source": [
    "There are several features which makes this slightly unreadable. There is the need to find out the length of the list, the definition of a variable that goes through each list index one by one, and only then do we get to the main point of the program, which is to get the sum of the numbers in the list **numbers**. \n",
    "\n",
    "In Python, we can instead use its rich assignment features to just do the following:"
   ]
  },
  {
   "cell_type": "code",
   "execution_count": 17,
   "id": "b92d5bce",
   "metadata": {},
   "outputs": [
    {
     "name": "stdout",
     "output_type": "stream",
     "text": [
      "15\n"
     ]
    }
   ],
   "source": [
    "#defns\n",
    "numbers = [1, 2, 3, 4, 5]\n",
    "\n",
    "#calc\n",
    "SUM = 0\n",
    "for number in numbers:\n",
    "    SUM += number\n",
    "print(SUM)"
   ]
  },
  {
   "cell_type": "markdown",
   "id": "d4684db7",
   "metadata": {},
   "source": [
    "Here, we immediately know what is going on. We are going to take a **number** from the list **numbers** and then add it to **SUM**. No extra syntax required that are unrelated to this task.\n",
    "\n",
    "Another related assignment feature is multiple assignment. Say you have two variables, and you wish to switch their values around. For other programming langauges, one might do the following:"
   ]
  },
  {
   "cell_type": "code",
   "execution_count": 18,
   "id": "48d93de5",
   "metadata": {},
   "outputs": [
    {
     "name": "stdout",
     "output_type": "stream",
     "text": [
      "a is equal to 1, b is equal to 2\n",
      "Switching a <-> b\n",
      "Now, a is equal to 2, b is equal to 2\n"
     ]
    }
   ],
   "source": [
    "#defns\n",
    "a = 1\n",
    "b = 2\n",
    "\n",
    "#calc\n",
    "print(\"a is equal to {0}, b is equal to {1}\".format(a, b))\n",
    "\n",
    "print(\"Switching a <-> b\")\n",
    "c = b\n",
    "a = b\n",
    "b = c\n",
    "\n",
    "print(\"Now, a is equal to {0}, b is equal to {1}\".format(a, b))"
   ]
  },
  {
   "cell_type": "markdown",
   "id": "2797f1f7",
   "metadata": {},
   "source": [
    "We had to name a third variable, and need to keep in mind where each variable value is going as we are doing the switching. Now imagine doing this for 3 or more variables!\n",
    "\n",
    "Well, we can imagine just that in Python."
   ]
  },
  {
   "cell_type": "code",
   "execution_count": 19,
   "id": "f5c63f98",
   "metadata": {},
   "outputs": [
    {
     "name": "stdout",
     "output_type": "stream",
     "text": [
      "a = 1, b = 2, c = 3, d = 4\n",
      "Switching complicatedly...\n",
      "Now, a = 2, b = 3, c = 1, d = 4\n"
     ]
    }
   ],
   "source": [
    "#defns\n",
    "a = 1\n",
    "b = 2\n",
    "c = 3\n",
    "d = 4\n",
    "\n",
    "#calc\n",
    "print(\"a = {0}, b = {1}, c = {2}, d = {3}\".format(a,b,c,d))\n",
    "\n",
    "print(\"Switching complicatedly...\")\n",
    "\n",
    "(a,b,c,d) = (b,c,a,d)\n",
    "\n",
    "print(\"Now, a = {0}, b = {1}, c = {2}, d = {3}\".format(a,b,c,d))"
   ]
  },
  {
   "cell_type": "markdown",
   "id": "9f71c922",
   "metadata": {},
   "source": [
    "I think you can agree the Python way is much more elegant looking. Not only is this more readable, it's safer **exactly because** it is so readable. We know where each variable is headed to **immediately**. But wait, there's more: this multiple assignment is done at C-speed, so not only is this the better way, it is also the **faster** way. We may use this in a simple fibonacci function."
   ]
  },
  {
   "cell_type": "code",
   "execution_count": 20,
   "id": "50a0b575",
   "metadata": {},
   "outputs": [
    {
     "name": "stdout",
     "output_type": "stream",
     "text": [
      "Which Fibonacci number would you like to calculate? 15\n",
      "The 15th Fibonacci number is 610\n"
     ]
    }
   ],
   "source": [
    "def fib(n, f_1 = 1, f_2 = 1):\n",
    "    \"\"\"\n",
    "    Returns the nth Fibonacci number, starting with f_1 = 1, f_2 = 1\n",
    "    \"\"\"\n",
    "    for _ in range(1, n):\n",
    "        (f_1, f_2) = (f_2, f_1 + f_2)\n",
    "    return f_1\n",
    "\n",
    "n = int(input(\"Which Fibonacci number would you like to calculate? \"))\n",
    "print(\"The {0}th Fibonacci number is {1}\".format(n, fib(n)))"
   ]
  },
  {
   "cell_type": "markdown",
   "id": "6c6c0311",
   "metadata": {},
   "source": [
    "This multiple assignment feature also exists in for loops. Consider the following code, where we have used the **zip** functions to stitch the two lists together"
   ]
  },
  {
   "cell_type": "code",
   "execution_count": 21,
   "id": "cd0875b8",
   "metadata": {},
   "outputs": [
    {
     "name": "stdout",
     "output_type": "stream",
     "text": [
      "Mary has a height of 164 cm\n",
      "Jerry has a height of 155 cm\n",
      "Louise has a height of 180 cm\n"
     ]
    }
   ],
   "source": [
    "#defns\n",
    "names = [\"Mary\", \"Jerry\", \"Louise\"]\n",
    "heights = [164, 155,180]\n",
    "\n",
    "#calc\n",
    "for (name, height) in zip(names, heights):\n",
    "    print(\"{0} has a height of {1} cm\".format(name, height))"
   ]
  },
  {
   "cell_type": "markdown",
   "id": "a6cfad97",
   "metadata": {},
   "source": [
    "## <center> On numeric literals </center>\n",
    "\n",
    "Has this ever happened to you? You define an integer that is supposed to be some large number, and then as you code, you immediately forget how large that number is at a glance. Quick! Is the following number 100 million or 10 million? 100000000. \n",
    "\n",
    "Did you take a long time counting the zeros? We usually count commas to get an idea how large a number is! This is why we use delimitters in every day use. For English speakers, it is tradition to split a number every three orders of magnitude. Reading 100,000,000, we immediately know that this number is 100 million and not 10 million. We can do the same thing in Python using underscores."
   ]
  },
  {
   "cell_type": "code",
   "execution_count": 22,
   "id": "150dd8d9",
   "metadata": {},
   "outputs": [],
   "source": [
    "n1 = 1_000_000\n",
    "n2 = 10_000_000\n",
    "n3 = 100_000_000"
   ]
  },
  {
   "cell_type": "markdown",
   "id": "f9c94382",
   "metadata": {},
   "source": [
    "Note that the only limitation is that there should be no adjacent underscores. Barring this limitation, we may split the number in any way we want."
   ]
  },
  {
   "cell_type": "code",
   "execution_count": 23,
   "id": "34383da8",
   "metadata": {},
   "outputs": [],
   "source": [
    "n4 = 10_00_00"
   ]
  },
  {
   "cell_type": "markdown",
   "id": "f48c16e6",
   "metadata": {},
   "source": [
    "This also works on floating points, although Jupyter might get confused with the coloring."
   ]
  },
  {
   "cell_type": "code",
   "execution_count": 24,
   "id": "705c8fce",
   "metadata": {},
   "outputs": [
    {
     "name": "stdout",
     "output_type": "stream",
     "text": [
      "1.60217662e-19\n"
     ]
    }
   ],
   "source": [
    "C = 1.602_176_62e-19\n",
    "print(C)"
   ]
  },
  {
   "cell_type": "markdown",
   "id": "7f4f7bb7",
   "metadata": {},
   "source": [
    "## <center> On docstrings </center>\n",
    "\n",
    "Has this ever happened to you? You have defined a function loaded with a long list of variable inputs a few paragraphs ago, and you have forgotten the order at which the inputs must be given? Or maybe you've forgotten what inputs must be supplied in the first place! So you do the dance of scrolling up and down your Jupyter notebook just to figure out the correct way to call a function.\n",
    "\n",
    "A useful shortcut is Shift+Tab, which pulls up the signature (the order and names of the input arguments) and the docstring of a function. Try it out:"
   ]
  },
  {
   "cell_type": "code",
   "execution_count": 25,
   "id": "485890c0",
   "metadata": {},
   "outputs": [
    {
     "data": {
      "text/plain": [
       "<function __main__.fib(n, f_1=1, f_2=1)>"
      ]
     },
     "execution_count": 25,
     "metadata": {},
     "output_type": "execute_result"
    }
   ],
   "source": [
    "fib"
   ]
  },
  {
   "cell_type": "markdown",
   "id": "8b11bfb7",
   "metadata": {},
   "source": [
    "This is why writing documentation is for your own good. One can future-proof your code by writing a more detailed docstring, which may include\n",
    "\n",
    "1. A short description of your function\n",
    "2. A short description of each input\n",
    "3. A short description of the expected output\n",
    "\n",
    "There are others you can supply, and not all of this may be vital. It depends on the mixture of how much energy you have for banal work and how simple or complicated your project is. For example, we may do something like"
   ]
  },
  {
   "cell_type": "code",
   "execution_count": 26,
   "id": "f5323375",
   "metadata": {},
   "outputs": [],
   "source": [
    "def fib(n, f_1 = 1, f_2 = 1):\n",
    "    \"\"\"\n",
    "    Calculates Fibonacci numbers, starting with f_1 = 1, f_2 = 1\n",
    "    \n",
    "    n : The index of the target Fibonnaci number\n",
    "    f_1 : The first Fibonnaci number in your sequence, defaults to 1\n",
    "    f_2 : The second Fibonnaci number in your seqquence, defaults to 1\n",
    "    \n",
    "    Returns the nth Fibonnaci number\n",
    "    \"\"\"\n",
    "    for _ in range(1, n):\n",
    "        (f_1, f_2) = (f_2, f_1 + f_2)\n",
    "    return f_1"
   ]
  },
  {
   "cell_type": "markdown",
   "id": "d68cfc16",
   "metadata": {},
   "source": [
    "Of course, this might seem facetious in this code sample. You already know very well the context of a Fibonacci number. But it'll become vital when you work on larger and more complicated projects. Your future self will thank you, for doing some extra work in the present so that they won't have to."
   ]
  },
  {
   "cell_type": "markdown",
   "id": "f3fcfb53",
   "metadata": {},
   "source": [
    "## <center> For loops vs while loops </center>\n",
    "\n",
    "This entire subsection lifts its material from the following video: https://www.youtube.com/watch?v=Qgevy75co8c\n",
    "\n",
    "It must be stressed that there is a bias against **while** loops in Python, especially if one is just iterating over a certain list of numbers. Consider the following pieces of code, which is doing the same thing"
   ]
  },
  {
   "cell_type": "code",
   "execution_count": 27,
   "id": "7391b73e",
   "metadata": {},
   "outputs": [],
   "source": [
    "def sum_while(n):\n",
    "    \"\"\"\n",
    "    Sums the first n positive integers using a while loop\n",
    "    \"\"\"\n",
    "    i = 0\n",
    "    SUM = 0\n",
    "    while i <= n:\n",
    "        SUM += i\n",
    "        i += 1\n",
    "    return SUM\n",
    "\n",
    "def sum_for(n):\n",
    "    \"\"\"\n",
    "    Sums the first n positive integers using a for loop\n",
    "    \"\"\"\n",
    "    SUM = 0\n",
    "    for i in range(n+1):\n",
    "        SUM += i\n",
    "    return SUM"
   ]
  },
  {
   "cell_type": "markdown",
   "id": "d1f1d240",
   "metadata": {},
   "source": [
    "We shall time these two functions using a very primitive and inaccurate method, with the **time** module. The time() function in this module gets the current time, so we can roughly measure how long a function took to run by simply calling it before and after and take the difference."
   ]
  },
  {
   "cell_type": "code",
   "execution_count": 28,
   "id": "4231e385",
   "metadata": {},
   "outputs": [
    {
     "name": "stdout",
     "output_type": "stream",
     "text": [
      "How many integers would you like to sum and compare? 100000000\n",
      "sum_while function took 8.61872410774231 s to sum 100000000 integers\n",
      "sum_for function took 5.510751247406006 s to sum 100000000 integers\n",
      "The for loop is 1.5639835152782977 times faster than the while loop\n"
     ]
    }
   ],
   "source": [
    "import time\n",
    "\n",
    "#defns\n",
    "n = int(input(\"How many integers would you like to sum and compare? \"))\n",
    "\n",
    "start = time.time()\n",
    "sum_while(n)\n",
    "tottime_while = time.time() - start\n",
    "print(\"sum_while function took {0} s to sum {1} integers\".format(tottime_while, n))\n",
    "\n",
    "start = time.time()\n",
    "sum_for(n)\n",
    "tottime_for = time.time() - start\n",
    "print(\"sum_for function took {0} s to sum {1} integers\".format(tottime_for, n))\n",
    "\n",
    "print(\"The for loop is {0} times faster than the while loop\".format(tottime_while/tottime_for))"
   ]
  },
  {
   "cell_type": "markdown",
   "id": "4925c834",
   "metadata": {},
   "source": [
    "Notice that **sum_while** always takes around twice as long as **sum_for** loop. This actually makes perfect sense if you know what is going on behind the scenes.\n",
    "\n",
    "The for loop is iterating at C-speed. As it picks out each element and runs through the list of integers, everything is calculated in pristine, statically-typed compiled code, at the express care of your Python interpreter. The while loop, on the other hand, calculates the next integer with a Python-ic object **i**. This comes with it all the usefulness and baggage of a Python variable.\n",
    "\n",
    "Since Python is dynamically typed, Python still needs to check what variable type **i** is, what variable type the number being added to it is (the integer 1). Then it notices there is an addition operation, so it still needs to find out how these two variables (which may have different variable types) may be added together (by calling, as we now know, the proper Python protocol).\n",
    "\n",
    "Of course, we know that **i** and **1** are both integers. But Python doesn't know that! So it needs to do this complicated dance of checking and cross checking just to add two variables. The convenience we get for being able to multiply strings and integers and floating points together comes with it slower run times.\n",
    "\n",
    "The same thing happens with the variable **SUM**. However, notice that **sum_while** goes through two Pythonic arithmetic operations, while **sum_for** only goes through one Pythonic arithmetic operation. We may add an extraneous Pythonic addition just to confirm the intuition that the two pieces of code becomes comparable in speed."
   ]
  },
  {
   "cell_type": "code",
   "execution_count": 29,
   "id": "f88f6952",
   "metadata": {},
   "outputs": [],
   "source": [
    "def sum_for_but_slower(n):\n",
    "    \"\"\"\n",
    "    In which we add an extra arithmetic operation \n",
    "    as you go through summing the integers\n",
    "    \"\"\"\n",
    "    SUM = 0\n",
    "    extra = 0\n",
    "    for i in range(n+1):\n",
    "        SUM += i\n",
    "        extra += 1\n",
    "    return SUM"
   ]
  },
  {
   "cell_type": "markdown",
   "id": "33faae79",
   "metadata": {},
   "source": [
    "To test our hypothesis, consider the following piece of code. Notice that the time the slower for function runs is always almost as fast as our original while loop for larger and larger **n**."
   ]
  },
  {
   "cell_type": "code",
   "execution_count": 30,
   "id": "09798edd",
   "metadata": {},
   "outputs": [
    {
     "name": "stdout",
     "output_type": "stream",
     "text": [
      "How many integers would you like to sum and compare? 100000000\n",
      "The for loop is 1.5537983584237385 times faster than the while loop\n",
      "The slower for loop is 1.0920529246719393 times faster than the while loop\n"
     ]
    }
   ],
   "source": [
    "#defns\n",
    "n = int(input(\"How many integers would you like to sum and compare? \"))\n",
    "\n",
    "start = time.time()\n",
    "sum_while(n)\n",
    "tottime_while = time.time() - start\n",
    "\n",
    "start = time.time()\n",
    "sum_for(n)\n",
    "tottime_for = time.time() - start\n",
    "\n",
    "start = time.time()\n",
    "sum_for_but_slower(n)\n",
    "tottime_for2 = time.time() - start\n",
    "\n",
    "print(\"The for loop is {0} times faster than the while loop\".format(tottime_while/tottime_for))\n",
    "print(\"The slower for loop is {0} times faster than the while loop\".format(tottime_while/tottime_for2))"
   ]
  },
  {
   "cell_type": "markdown",
   "id": "4a05004b",
   "metadata": {},
   "source": [
    "We are on the verge here of discovering what **decorators** are and how they are useful. Notice that in measuring the runtime of a certain function, there is a very routine set of instruction:\n",
    "1. get the time\n",
    "2. run the function\n",
    "3. get the time\n",
    "4. calculate the difference between start and finish\n",
    "\n",
    "There must be an easier way to implement this pattern of instruction, for arbitrary functions... Anyways, I defer this discussion to a later date, since it is more important you get your basics solid first before we can discuss these advance level concerns."
   ]
  }
 ],
 "metadata": {
  "kernelspec": {
   "display_name": "Python 3 (ipykernel)",
   "language": "python",
   "name": "python3"
  },
  "language_info": {
   "codemirror_mode": {
    "name": "ipython",
    "version": 3
   },
   "file_extension": ".py",
   "mimetype": "text/x-python",
   "name": "python",
   "nbconvert_exporter": "python",
   "pygments_lexer": "ipython3",
   "version": "3.9.12"
  }
 },
 "nbformat": 4,
 "nbformat_minor": 5
}
