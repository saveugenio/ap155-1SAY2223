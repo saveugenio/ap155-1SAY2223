{
 "cells": [
  {
   "cell_type": "markdown",
   "id": "5b5f93fd",
   "metadata": {},
   "source": [
    "# <center> Python and Jupyter, matplotlib and numpy </center>\n",
    "\n",
    "Here we shall learn the basics of Python and Jupyter, the basics of plotting data with matplotlib and exploring numpy's killer feature: the numpy array."
   ]
  },
  {
   "cell_type": "markdown",
   "id": "92099fab",
   "metadata": {},
   "source": [
    "## <center> Basic variable types </center>\n",
    "\n",
    "There are two main types of variables. The first type of variable stores only one type of thing, such as an integer, a string or a floating point."
   ]
  },
  {
   "cell_type": "code",
   "execution_count": 1,
   "id": "10373961",
   "metadata": {},
   "outputs": [],
   "source": [
    "integer_example = 10"
   ]
  },
  {
   "cell_type": "code",
   "execution_count": 2,
   "id": "1a46c94a",
   "metadata": {},
   "outputs": [],
   "source": [
    "string_example = 'Hello world'"
   ]
  },
  {
   "cell_type": "code",
   "execution_count": 3,
   "id": "5b89f916",
   "metadata": {},
   "outputs": [],
   "source": [
    "float_example = 10.0"
   ]
  },
  {
   "cell_type": "markdown",
   "id": "1a75e0a7",
   "metadata": {},
   "source": [
    "The second type of variable lets us store a collection of things, such as lists or tuples."
   ]
  },
  {
   "cell_type": "code",
   "execution_count": 4,
   "id": "d6dddef3",
   "metadata": {},
   "outputs": [],
   "source": [
    "list_example = [1,2,3,4]\n",
    "tuple_example = (1,2,3,4)"
   ]
  },
  {
   "cell_type": "markdown",
   "id": "8e46ceb5",
   "metadata": {},
   "source": [
    "To extract an element from these lists, we suffix the variable with an index $i$ enclosed in square parentheses. Note that indexing starts at 0 instead of 1 - that is, the 1st element is at index 0."
   ]
  },
  {
   "cell_type": "code",
   "execution_count": 5,
   "id": "9c9cd36b",
   "metadata": {},
   "outputs": [
    {
     "data": {
      "text/plain": [
       "1"
      ]
     },
     "execution_count": 5,
     "metadata": {},
     "output_type": "execute_result"
    }
   ],
   "source": [
    "list_example[0]"
   ]
  },
  {
   "cell_type": "code",
   "execution_count": 6,
   "id": "1f470d43",
   "metadata": {},
   "outputs": [
    {
     "data": {
      "text/plain": [
       "2"
      ]
     },
     "execution_count": 6,
     "metadata": {},
     "output_type": "execute_result"
    }
   ],
   "source": [
    "tuple_example[1]"
   ]
  },
  {
   "cell_type": "markdown",
   "id": "98e8352a",
   "metadata": {},
   "source": [
    "The main difference between tuples and lists is that lists are **mutable** while tuples are not"
   ]
  },
  {
   "cell_type": "code",
   "execution_count": 7,
   "id": "6e79d9d9",
   "metadata": {},
   "outputs": [
    {
     "data": {
      "text/plain": [
       "[1, 10, 3, 4]"
      ]
     },
     "execution_count": 7,
     "metadata": {},
     "output_type": "execute_result"
    }
   ],
   "source": [
    "list_example[1] = 10\n",
    "list_example"
   ]
  },
  {
   "cell_type": "code",
   "execution_count": 8,
   "id": "9dfe6954",
   "metadata": {},
   "outputs": [
    {
     "ename": "TypeError",
     "evalue": "'tuple' object does not support item assignment",
     "output_type": "error",
     "traceback": [
      "\u001b[0;31m---------------------------------------------------------------------------\u001b[0m",
      "\u001b[0;31mTypeError\u001b[0m                                 Traceback (most recent call last)",
      "Input \u001b[0;32mIn [8]\u001b[0m, in \u001b[0;36m<cell line: 1>\u001b[0;34m()\u001b[0m\n\u001b[0;32m----> 1\u001b[0m tuple_example[\u001b[38;5;241m1\u001b[39m] \u001b[38;5;241m=\u001b[39m \u001b[38;5;241m10\u001b[39m\n",
      "\u001b[0;31mTypeError\u001b[0m: 'tuple' object does not support item assignment"
     ]
    }
   ],
   "source": [
    "tuple_example[1] = 10"
   ]
  },
  {
   "cell_type": "markdown",
   "id": "5ac8917e",
   "metadata": {},
   "source": [
    "**WARNING**: mutating lists are transitive. That is, two variables that point to the same list will both reflect changes on that list."
   ]
  },
  {
   "cell_type": "code",
   "execution_count": 10,
   "id": "78f6ddd7",
   "metadata": {},
   "outputs": [
    {
     "data": {
      "text/plain": [
       "[1, 2, 3, 4]"
      ]
     },
     "execution_count": 10,
     "metadata": {},
     "output_type": "execute_result"
    }
   ],
   "source": [
    "list_example2 = list_example\n",
    "list_example2[1] = 2\n",
    "list_example"
   ]
  },
  {
   "cell_type": "markdown",
   "id": "eb95f4b5",
   "metadata": {},
   "source": [
    "Note that the collection of things don't have to be of just a single data type. This is one of the magical things about Python."
   ]
  },
  {
   "cell_type": "code",
   "execution_count": 11,
   "id": "ee8ff379",
   "metadata": {},
   "outputs": [
    {
     "data": {
      "text/plain": [
       "[1, '2', 3, 4]"
      ]
     },
     "execution_count": 11,
     "metadata": {},
     "output_type": "execute_result"
    }
   ],
   "source": [
    "list_example2[1] = '2'\n",
    "list_example"
   ]
  },
  {
   "cell_type": "markdown",
   "id": "1ca5fa53",
   "metadata": {},
   "source": [
    "Lists and tuples are great if you have a collection of things that have some ordering. Another type of collection is called a **dictionary**, which is great for collections that do not have any ordering. The Python idiom is to create pairs of a **key** and **value**, separated by a colon. This is enclosed in curly brackets."
   ]
  },
  {
   "cell_type": "code",
   "execution_count": 12,
   "id": "2f32c718",
   "metadata": {},
   "outputs": [],
   "source": [
    "dictionary_example = {'Sean' : '17/01/94', 'Nel' : '16/09/93'}"
   ]
  },
  {
   "cell_type": "markdown",
   "id": "18917ab8",
   "metadata": {},
   "source": [
    "To get the **value** associated to a **key**, we suffix the variable with the key in square brackets. That is, the key effectively acts like the index for lists and tuples."
   ]
  },
  {
   "cell_type": "code",
   "execution_count": 13,
   "id": "e3c6f759",
   "metadata": {},
   "outputs": [
    {
     "data": {
      "text/plain": [
       "'16/09/93'"
      ]
     },
     "execution_count": 13,
     "metadata": {},
     "output_type": "execute_result"
    }
   ],
   "source": [
    "dictionary_example['Nel']"
   ]
  },
  {
   "cell_type": "markdown",
   "id": "34f2e2fc",
   "metadata": {},
   "source": [
    "To add elements to a dictionary, treat the dictionary as if it were a list - storing some value associated to some index."
   ]
  },
  {
   "cell_type": "code",
   "execution_count": 14,
   "id": "7d9444f7",
   "metadata": {},
   "outputs": [
    {
     "data": {
      "text/plain": [
       "'19/06/61'"
      ]
     },
     "execution_count": 14,
     "metadata": {},
     "output_type": "execute_result"
    }
   ],
   "source": [
    "dictionary_example['Jose'] = '19/06/61'\n",
    "dictionary_example['Jose']"
   ]
  },
  {
   "cell_type": "markdown",
   "id": "9a46d783",
   "metadata": {},
   "source": [
    "If you try to search for a value for which a key does not exist for, this would yield and error."
   ]
  },
  {
   "cell_type": "code",
   "execution_count": 15,
   "id": "0b4899f8",
   "metadata": {},
   "outputs": [
    {
     "ename": "KeyError",
     "evalue": "'Sam'",
     "output_type": "error",
     "traceback": [
      "\u001b[0;31m---------------------------------------------------------------------------\u001b[0m",
      "\u001b[0;31mKeyError\u001b[0m                                  Traceback (most recent call last)",
      "Input \u001b[0;32mIn [15]\u001b[0m, in \u001b[0;36m<cell line: 1>\u001b[0;34m()\u001b[0m\n\u001b[0;32m----> 1\u001b[0m \u001b[43mdictionary_example\u001b[49m\u001b[43m[\u001b[49m\u001b[38;5;124;43m'\u001b[39;49m\u001b[38;5;124;43mSam\u001b[39;49m\u001b[38;5;124;43m'\u001b[39;49m\u001b[43m]\u001b[49m\n",
      "\u001b[0;31mKeyError\u001b[0m: 'Sam'"
     ]
    }
   ],
   "source": [
    "dictionary_example['Sam']"
   ]
  },
  {
   "cell_type": "markdown",
   "id": "2a1a3282",
   "metadata": {},
   "source": [
    "## <center> Conditionals and loops </center>"
   ]
  },
  {
   "cell_type": "markdown",
   "id": "17345560",
   "metadata": {},
   "source": [
    "## <center> Built-in function </center>"
   ]
  },
  {
   "cell_type": "markdown",
   "id": "548a9879",
   "metadata": {},
   "source": [
    "## <center> Python packages </center>"
   ]
  },
  {
   "cell_type": "markdown",
   "id": "b708a002",
   "metadata": {},
   "source": [
    "## <center> String formatting </center>"
   ]
  },
  {
   "cell_type": "markdown",
   "id": "c024540d",
   "metadata": {},
   "source": [
    "## <center> Solving strategies: iteration vs. recursion </center>"
   ]
  },
  {
   "cell_type": "markdown",
   "id": "20c3c21a",
   "metadata": {},
   "source": [
    "## <center> Assignments and multiple assignments </center>"
   ]
  },
  {
   "cell_type": "markdown",
   "id": "f385b62c",
   "metadata": {},
   "source": [
    "## <center> On numeric literals </center>"
   ]
  },
  {
   "cell_type": "markdown",
   "id": "da507499",
   "metadata": {},
   "source": [
    "## <center> Timing and caching </center>"
   ]
  },
  {
   "cell_type": "markdown",
   "id": "6c4c8caf",
   "metadata": {},
   "source": [
    "## <center> Plotting 1-dimensional data </center>"
   ]
  },
  {
   "cell_type": "markdown",
   "id": "c2f06d4d",
   "metadata": {},
   "source": [
    "## <center> numpy arrays and vectorization </center>"
   ]
  },
  {
   "cell_type": "code",
   "execution_count": null,
   "id": "a4e4c30e",
   "metadata": {},
   "outputs": [],
   "source": []
  }
 ],
 "metadata": {
  "kernelspec": {
   "display_name": "Python 3 (ipykernel)",
   "language": "python",
   "name": "python3"
  },
  "language_info": {
   "codemirror_mode": {
    "name": "ipython",
    "version": 3
   },
   "file_extension": ".py",
   "mimetype": "text/x-python",
   "name": "python",
   "nbconvert_exporter": "python",
   "pygments_lexer": "ipython3",
   "version": "3.9.12"
  }
 },
 "nbformat": 4,
 "nbformat_minor": 5
}
