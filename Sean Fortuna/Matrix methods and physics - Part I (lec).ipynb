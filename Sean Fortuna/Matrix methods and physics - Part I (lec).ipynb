{
 "cells": [
  {
   "cell_type": "code",
   "execution_count": 2,
   "id": "ccdf7651",
   "metadata": {},
   "outputs": [],
   "source": [
    "import numpy as np\n",
    "import numpy.linalg as la\n",
    "import matplotlib.pyplot as plt\n",
    "import time"
   ]
  },
  {
   "cell_type": "markdown",
   "id": "caaa37ec",
   "metadata": {},
   "source": [
    "# <center> Matrix methods and physics - Part I </center>\n",
    "\n",
    "In this notes we shall look how matrix methods, such as matrix multiplication, the calculation of matrix inverses and the numerical solution of eigenvalue problems, help us solve physics problems.\n",
    "\n",
    "## <center> Matrix inversion and the 1D Poisson equation </center>\n",
    "\n",
    "Suppose we wish to solve the 1D Poisson equation\n",
    "\\begin{equation}\n",
    "\\dfrac{d^2 \\phi(x)}{dx^2} = f(x)\n",
    "\\end{equation}\n",
    "with a **source term** f(x), and the following simple **Dirichlet boundary conditions**.\n",
    "\\begin{equation}\n",
    "\\phi(x = 0) = a, \\qquad \\phi(x = 1) = b\n",
    "\\end{equation}\n",
    "That is, we are interested in a function $\\phi(x)$ on the interval $x \\in [0,1]$ which (1) has a specific value at the boundaries and (2) satisfies the above differential equation.\n",
    "\n",
    "At its current form, the problem is intractable for a computer. Unless we wish to teach Python the entirety of analytic techniques concerning calculus, we must translate the above problem into a closely related problem which approximates the solution $\\phi(x)$.\n",
    "\n",
    "### <center> Discretization </center>\n",
    "\n",
    "The function $\\phi(x)$ has an infinite amount of information. To solve it exactly, we must provide an infinite amount of information on an infinite number of points. The concept of discretization is that we may solve a related problem on a finite number of points (usually a large set of algebraic equations), handling only a finite amount of information, and convince ourselves that the related problem approximates the exact solution as the number of finite points becomes arbitrarily large.\n",
    "\n",
    "In this notes, we shall be looking at the following related problem:\n",
    "\n",
    "We begin with an equally spaced mesh on the interval $[0,1]$,\n",
    "\\begin{equation}\n",
    "X = \\{x_i\\}, \\qquad i = 0, 1, 2, \\dots, N\n",
    "\\end{equation}\n",
    "where\n",
    "\\begin{equation}\n",
    "x_0 = 0, \\qquad x_N = 1, \\qquad (\\forall i \\in 0, 1, \\dots, N-1) : x_{i+1} - x_i = h.\n",
    "\\end{equation}\n",
    "We wish to solve for the function values $\\phi(x)$ at each point on the mesh,\n",
    "\\begin{equation}\n",
    "\\Phi = \\{ \\phi_i \\}, \\qquad i = 0, 1, 2, \\dots, N\n",
    "\\end{equation}\n",
    "where $\\phi_i$ is related to the original smooth problem with\n",
    "\\begin{equation}\n",
    "\\phi_i = \\phi(x_i)\n",
    "\\end{equation}\n",
    "We may similarly discretize the source term $f(x)$, by defining\n",
    "\\begin{equation}\n",
    "F = \\{ f_i \\}, \\qquad, i = 0, 1, 2, \\dots, N\n",
    "\\end{equation}\n",
    "where\n",
    "\\begin{equation}\n",
    "f_i = f(x_i)\n",
    "\\end{equation}\n",
    "So far, we had discretized the interval $X$, the source term $F$ and the solution $\\Phi$. How do we discretize the above differential equations and boundary conditions?\n",
    "\n",
    "The boundary conditions is easy enough!\n",
    "\\begin{equation}\n",
    "\\phi_0 = a, \\qquad \\phi_N = b\n",
    "\\end{equation}\n",
    "We only need to solve for all the interior points. Now here's the punchline: consider the following algebraic equation for the set of unknowns $\\phi_i$:\n",
    "\\begin{equation}\n",
    "\\dfrac{\\phi_{i+1} - 2 \\phi_i + \\phi_{i-1}}{h^2} = f_i\n",
    "\\end{equation}\n",
    "If we look how this algebraic equation is related to the original smooth problem, we simply use the above maps\n",
    "\\begin{equation}\n",
    "\\dfrac{\\phi(x_{i+1}) - 2\\phi(x_i) + \\phi(x_{i-1})}{h^2} = f(x_i), \\qquad i = 1, 2, \\dots, N-1\n",
    "\\end{equation}\n",
    "Now we use the fact that the mesh of points is equally spaced to express $x_{i+1}$ and $x_{i-1}$ in terms of $x_i$,\n",
    "\\begin{equation}\n",
    "\\dfrac{\\phi(x_{i} + h) - 2\\phi(x_i) + \\phi(x_{i} - h)}{h^2} = f(x_i)\n",
    "\\end{equation}\n",
    "So now the question is, how closely does the algebraic equation match the Poisson equation? To find this out, we may expand this around $x = x_i$, noting that\n",
    "\\begin{equation}\n",
    "\\phi(x_i \\pm h) = \\phi(x_i) \\pm h \\dfrac{d \\phi(x_i)}{dx} + \\dfrac{h^2}{2} \\dfrac{d^2 \\phi(x_i)}{dx^2} \\pm \\dfrac{h^3}{6} \\dfrac{d^3 \\phi(x_i)}{dx^3} + \\dfrac{h^4}{24} \\dfrac{d^4 \\phi(x_i)}{dx^4} + O(h^5)\n",
    "\\end{equation}\n",
    "You should be able to show that the above equation reduces to\n",
    "\\begin{equation}\n",
    "\\dfrac{d^2 \\phi(x_i)}{dx^2} + \\dfrac{h^2}{12} \\dfrac{d^4 \\phi(x_i)}{dx^4} = f(x_i)\n",
    "\\end{equation}\n",
    "Thus the algebraic equation is accurate to order $h^2$ at each point $x_i$. If we increase the number of points (and therefore decrease the size of $h$), this extra term is suppressed further and the algebraic equation matches the infinitely smooth problem at each point $x_i$ more accurately!\n",
    "\n",
    "___\n",
    "\n",
    "Notice that we have a set of linear algebraic equations to solve for the set of coefficients $\\phi_i$. We should be able to write this down as a matrix equation!\n",
    "\n",
    "The algebraic equation\n",
    "\\begin{equation}\n",
    "\\dfrac{\\phi_{i+1} - 2 \\phi_i + \\phi_{i-1}}{h^2} = f_i\n",
    "\\end{equation}\n",
    "is generic for most values of $i$. we may clean it up by transfering the $h^2$ term on the source side,\n",
    "\\begin{equation}\n",
    "\\phi_{i+1} - 2 \\phi_i + \\phi_{i-1} = h^2 f_i\n",
    "\\end{equation}\n",
    "\n",
    "Two values of $i$ differ from the rest, and those are related to when $\\phi_0$ and $\\phi_N$ appear, whose values we already know, and thus we may transfer on the 'source' side of the equation. For $i = 1$,\n",
    "\\begin{equation}\n",
    "\\phi_{2} - 2 \\phi_1 + \\phi_{0} = h^2 f_1 \\qquad \\to \\qquad \\phi_2 - 2 \\phi_1 = h^2 f_1 - a\n",
    "\\end{equation}\n",
    "For $i = N-1$,\n",
    "\\begin{equation}\n",
    "\\phi_{N} - 2 \\phi_{N-1} + \\phi_{N-2} = h^2 f_{N-1} \\qquad \\to \\qquad \\phi_{N-1} - 2 \\phi_{N-2} = h^2 f_{N-1} - b\n",
    "\\end{equation}\n",
    "\n",
    "The matrix equation thus looks like, for some $N$,\n",
    "\\begin{equation}\n",
    "\\begin{pmatrix}\n",
    "-2 & 1 & 0 & 0 & \\dots & 0\\\\\n",
    "1 & -2 & 1 & 0 & \\dots & 0 \\\\\n",
    "0 & 1 & -2 & 1 & \\dots & 0 \\\\\n",
    "\\vdots & \\ddots & \\ddots & \\ddots & \\ddots & \\vdots \\\\\n",
    "0 & \\dots & 1 & -2 & 1 & 0 \\\\\n",
    "0 & \\dots & 0 & 1 & -2 & 1 \\\\\n",
    "0 & \\dots & 0 & 0 & 1 & -2\n",
    "\\end{pmatrix}\n",
    "\\begin{pmatrix}\n",
    "\\phi_1 \\\\ \\phi_2 \\\\ \\phi_3 \\\\ \\vdots \\\\ \\phi_{N-3} \\\\ \\phi_{N-2} \\\\ \\phi_{N-1}\n",
    "\\end{pmatrix}\n",
    "= \\begin{pmatrix}\n",
    "h^2 f_1 - a \\\\ h^2 f_2 \\\\ h^2 f_3 \\\\ \\vdots \\\\ h^2 f_{N-3} \\\\ h^2 f_{N-2} \\\\ h^2 f_{N-1} - b\n",
    "\\end{pmatrix}\n",
    "\\end{equation}\n",
    "\n",
    "___\n",
    "\n",
    "Thus to solve the Poisson equation, we need to simply calculate two things.\n",
    "1. The source vector,\n",
    "\\begin{equation}\n",
    "\\tilde{F} = \n",
    "\\begin{pmatrix}\n",
    "h^2 f_1 - a \\\\ h^2 f_2 \\\\ h^2 f_3 \\\\ \\vdots \\\\ h^2 f_{N-3} \\\\ h^2 f_{N-2} \\\\ h^2 f_{N-1} - b\n",
    "\\end{pmatrix}\n",
    "\\end{equation}\n",
    "2. The inverse of a tri-diagonal matrix,\n",
    "\\begin{equation}\n",
    "A = \n",
    "\\begin{pmatrix}\n",
    "-2 & 1 & 0 & 0 & \\dots & 0\\\\\n",
    "1 & -2 & 1 & 0 & \\dots & 0 \\\\\n",
    "0 & 1 & -2 & 1 & \\dots & 0 \\\\\n",
    "\\vdots & \\ddots & \\ddots & \\ddots & \\ddots & \\vdots \\\\\n",
    "0 & \\dots & 1 & -2 & 1 & 0 \\\\\n",
    "0 & \\dots & 0 & 1 & -2 & 1 \\\\\n",
    "0 & \\dots & 0 & 0 & 1 & -2\n",
    "\\end{pmatrix}\n",
    "\\end{equation}\n",
    "\n",
    "This lets us calculate $\\Phi$,\n",
    "\\begin{equation}\n",
    "\\Phi = A^{-1} \\tilde{F}\n",
    "\\end{equation}\n",
    "\n",
    "### <center> Model problems </center>\n",
    "\n",
    "Important to the development of any numerical method is your ability to generate a suitable test bed for calculations. Armed with an exact solution, one can determine quite easily when something has gone wrong. Here, we shall show how to generate one such test bed.\n",
    "\n",
    "For the Poisson equation, we need only supply a solution $\\phi(x)$, and its second derivative we simply use as the source term. That is, if we use\n",
    "\\begin{equation}\n",
    "\\phi(x) = \\sin(\\pi x^2 + \\pi/2)\n",
    "\\end{equation}\n",
    "then it is clear that\n",
    "\\begin{equation}\n",
    "f(x) = 2 \\pi \\cos(\\pi x^2) - 4 \\pi^2 x^2 \\sin(\\pi x^2), \\qquad \\phi(0) = \\phi(1) = 0\n",
    "\\end{equation}\n",
    "This will be the model problem which we shall look at."
   ]
  },
  {
   "cell_type": "code",
   "execution_count": 47,
   "id": "6d384998",
   "metadata": {},
   "outputs": [],
   "source": [
    "def solve_Poisson(x, f, a, b):\n",
    "    \"\"\"\n",
    "    x : mesh\n",
    "    f : source term\n",
    "    a : f(x[0])\n",
    "    b : f(x[-1])\n",
    "    \"\"\"\n",
    "    N = len(x)\n",
    "    h = x[1]-x[0]\n",
    "    \n",
    "    ## generate F-tilde\n",
    "    F_tilde = h**2 * f(x[1:-1]) ## evaluating the source function f in the interior points\n",
    "    F_tilde[0] -= a\n",
    "    F_tilde[-1] -= b\n",
    "    \n",
    "    ## generate A\n",
    "    A = np.zeros((N-2,N-2))\n",
    "    for i in range(N-3):\n",
    "        A[i,i] = -2 #diagonal\n",
    "        A[i+1,i] = 1\n",
    "        A[i,i+1] = 1\n",
    "    A[-1,-1] = -2\n",
    "    \n",
    "    ## generate A_inv\n",
    "    A_inv = la.inv(A)\n",
    "    \n",
    "    #calculate the interior points\n",
    "    phi = np.dot(A_inv,F_tilde)\n",
    "    \n",
    "    #add boundary points\n",
    "    phi = np.insert(phi,0,a)\n",
    "    phi = np.append(phi,b)\n",
    "    \n",
    "    return phi"
   ]
  },
  {
   "cell_type": "code",
   "execution_count": 48,
   "id": "ebd2ebe3",
   "metadata": {},
   "outputs": [],
   "source": [
    "def f(x):\n",
    "    x2 = x*x\n",
    "    return - 2 * np.pi * np.sin(np.pi * x2) - 4 * np.pi * np.pi * x2 * np.cos(np.pi * x2)\n",
    "\n",
    "def sol(x):\n",
    "    return np.sin(np.pi * x * x + np.pi/2)\n",
    "\n",
    "xmin = 0\n",
    "xmax = 1\n",
    "a = 1\n",
    "b = -1\n",
    "n = 41\n",
    "x = np.linspace(xmin,xmax,n)\n",
    "phi = solve_Poisson(x,f,a,b)"
   ]
  },
  {
   "cell_type": "markdown",
   "id": "d07561f9",
   "metadata": {},
   "source": [
    "Let us check how well our numerical solution and the exact solution matches!"
   ]
  },
  {
   "cell_type": "code",
   "execution_count": 49,
   "id": "e6b5232b",
   "metadata": {},
   "outputs": [
    {
     "data": {
      "text/plain": [
       "<matplotlib.legend.Legend at 0x7f7a1aaacc40>"
      ]
     },
     "execution_count": 49,
     "metadata": {},
     "output_type": "execute_result"
    },
    {
     "data": {
      "image/png": "[encoded data removed]",
      "text/plain": [
       "<Figure size 432x288 with 1 Axes>"
      ]
     },
     "metadata": {
      "needs_background": "light"
     },
     "output_type": "display_data"
    }
   ],
   "source": [
    "plt.plot(x, phi, label = 'num sol')\n",
    "plt.plot(x,sol(x), label= 'exact sol')\n",
    "plt.legend()"
   ]
  },
  {
   "cell_type": "markdown",
   "id": "50bc7834",
   "metadata": {},
   "source": [
    "Let's look at the error at each point"
   ]
  },
  {
   "cell_type": "code",
   "execution_count": 32,
   "id": "82f07fb9",
   "metadata": {},
   "outputs": [
    {
     "data": {
      "text/plain": [
       "[<matplotlib.lines.Line2D at 0x7f7a1ae28eb0>]"
      ]
     },
     "execution_count": 32,
     "metadata": {},
     "output_type": "execute_result"
    },
    {
     "data": {
      "image/png": "[encoded data removed]",
      "text/plain": [
       "<Figure size 432x288 with 1 Axes>"
      ]
     },
     "metadata": {
      "needs_background": "light"
     },
     "output_type": "display_data"
    }
   ],
   "source": [
    "plt.plot(x, phi - sol(x))"
   ]
  },
  {
   "cell_type": "markdown",
   "id": "be7fbbf6",
   "metadata": {},
   "source": [
    "Notice that the error looks like a smooth function. This is expected! If the discrete solution, say $\\tilde{\\phi}$ approximately solves the differential equation\n",
    "\\begin{equation}\n",
    "\\dfrac{d^2 \\tilde{\\phi}(x)}{dx^2} + \\dfrac{h^2}{12} \\dfrac{d^4 \\tilde{\\phi}(x)}{dx^4} = f(x),\n",
    "\\end{equation}\n",
    "then we may relate the exact solution $\\phi(x)$, which satisfies\n",
    "\\begin{equation}\n",
    "\\dfrac{d^2 \\phi(x)}{dx^2} = f(x),\n",
    "\\end{equation}\n",
    "with\n",
    "\\begin{equation}\n",
    "\\tilde{\\phi} = \\phi + e.\n",
    "\\end{equation}\n",
    "If we plug in the above equation into the second expression above, we get\n",
    "\\begin{equation}\n",
    "\\dfrac{d^2 (\\tilde{\\phi} - e)}{dx^2} = f(x) \\to \\dfrac{d^2 \\tilde{\\phi}}{dx^2} - \\dfrac{d^2 e}{dx^2} = f(x)\n",
    "\\end{equation}\n",
    "Replacing\n",
    "\\begin{equation}\n",
    "\\dfrac{d^2 \\tilde{\\phi}(x)}{dx^2} = f(x) - \\dfrac{h^2}{12} \\dfrac{d^4 \\tilde{\\phi}(x)}{dx^4},\n",
    "\\end{equation}\n",
    "we therefore get\n",
    "\\begin{equation}\n",
    "f(x) - \\dfrac{h^2}{12} \\dfrac{d^4 \\tilde{\\phi}(x)}{dx^4} - \\dfrac{d^2 e}{dx^2} = f(x) \\qquad \\to \\qquad \\dfrac{d^2 e}{dx^2} = - \\dfrac{h^2}{12} \\dfrac{d^4 \\tilde{\\phi}(x)}{dx^4} \\qquad \\to \\qquad e = - \\dfrac{h^2}{12} \\dfrac{d^2 \\tilde{\\phi}(x)}{dx^2} + c_0 + c_1 x\n",
    "\\end{equation}\n",
    "We may use the first expression above once to get\n",
    "\\begin{equation}\n",
    "e = c_0 + c_1 x - \\dfrac{h^2}{12} f(x) + O(h^4)\n",
    "\\end{equation}\n",
    "Since the boundary conditions are satisfied exactly, the error similarly vanishes at the boundaries\n",
    "\\begin{equation}\n",
    "e(0) = e(1) = 0\n",
    "\\end{equation}\n",
    "This lets us calculate what $c_0$ and $c_1$ are,\n",
    "\\begin{equation}\n",
    "e(0) = 0 \\qquad \\to \\qquad 0 = c_0 - \\dfrac{h^2}{12} f(0) \\qquad \\to \\qquad c_0 = \\dfrac{h^2}{12} f(0)\n",
    "\\end{equation}\n",
    "\\begin{equation}\n",
    "e(1) = 0 \\qquad \\to \\qquad 0 = \\dfrac{h^2}{12} f(0) + c_1 - \\dfrac{h^2}{12} f(1) \\qquad \\to \\qquad c_1 = \\dfrac{h^2}{12} \\left( f(1) - f(0) \\right)\n",
    "\\end{equation}\n",
    "Thus,\n",
    "\\begin{equation}\n",
    "\\tilde{\\phi} - \\phi \\approx \\dfrac{h^2}{12} \\left( f(0) + (f(1) - f(0)) x - f(x) \\right)\n",
    "\\end{equation}\n",
    "which we may check!"
   ]
  },
  {
   "cell_type": "code",
   "execution_count": 33,
   "id": "6f0cadee",
   "metadata": {},
   "outputs": [
    {
     "data": {
      "text/plain": [
       "<matplotlib.legend.Legend at 0x7f7a1ae08fd0>"
      ]
     },
     "execution_count": 33,
     "metadata": {},
     "output_type": "execute_result"
    },
    {
     "data": {
      "image/png": "[encoded data removed]",
      "text/plain": [
       "<Figure size 432x288 with 1 Axes>"
      ]
     },
     "metadata": {
      "needs_background": "light"
     },
     "output_type": "display_data"
    }
   ],
   "source": [
    "h = x[1] - x[0]\n",
    "plt.plot(x, h**2/12*(f(0) + (f(1) - f(0))*x - f(x)), label = 'analytic error')\n",
    "plt.plot(x, phi-sol(x), label='numerical error')\n",
    "plt.legend()"
   ]
  },
  {
   "cell_type": "markdown",
   "id": "3ecd74ad",
   "metadata": {},
   "source": [
    "Everything is in order. Even the error matches our analytic predictions!\n",
    "\n",
    "All of this effort of testing a numerical method with a very well-understood test bed was in service for the eventual deployment of our numerical method on sources $f(x)$ and boundary conditions whose solution we do not know. If we can trust the result of our method with the model problem, maybe we can trust it when we try to solve other, more interesting physical problems.\n",
    "\n",
    "## <center> Final thoughts </center>\n",
    "\n",
    "In Part I, we demonstrated how to translate differential problems into a related problem which computers can handle. We did the following\n",
    "\n",
    "1. We defined a finite, discrete mesh of points $X$.\n",
    "2. We defined a finite set of function evaluations on that mesh, which includes the unknown solution\n",
    "3. We prescribed a set of algebraic equations that the quantities we had defined in (1) and (2) must satisfy, which approximates the differential equation on a set of points on the domain of the solution.\n",
    "\n",
    "These algebraic equations are called finite difference schemes. Note that the finite difference scheme we implemented in Part I approximated the differential equation on the points on $X$. This is not necessary. We may, for example, impose finite difference schemes which are satisfied on the midpoints of $X$, as in\n",
    "\\begin{equation}\n",
    "\\dfrac{\\phi_{i-1} - \\phi_{i} - \\phi_{i+1} + \\phi_{i+2}}{2 h^2} = \\dfrac{f_{i}+f_{i+1}}{2}, \\qquad i = 1,2,\\dots,N-1\n",
    "\\end{equation}\n",
    "which when expanded around $x = \\dfrac{x_i + x_{i+1}}{2}$, yields\n",
    "\\begin{equation}\n",
    "\\dfrac{d^2\\phi(x)}{dx^2} + \\dfrac{5}{24} h^2 \\dfrac{d^4\\phi(x)}{dx^4} = f(x) + \\dfrac{1}{8}h^2 \\dfrac{d^2 f(x)}{dx^2}\n",
    "\\end{equation}\n",
    "which again approximates the Poisson equation to order $O(h^2)$.\n",
    "\n",
    "This finite difference scheme becomes more complicated, since the expansion around\n",
    "\\begin{equation}\n",
    "x = \\dfrac{x_{N-1} + x_N}{2}\n",
    "\\end{equation}\n",
    "does not work. The algebraic equation now includes a function evaluation $\\phi_{N+1}$ outside our mesh, coming from $\\phi_{i+2}$ when we plug in $N-1$.\n",
    "\n",
    "We had already experienced this boundary woes with our current example, for $i = 1, N-1$. It just so happens that the resolution is very easy: the $\\phi_0$ and $\\phi_N$ terms are just lumped together with the source terms. For higher order methods, we need to do something more complicated, such as supplying a different algebraic equation for the problem points. "
   ]
  }
 ],
 "metadata": {
  "kernelspec": {
   "display_name": "Python 3 (ipykernel)",
   "language": "python",
   "name": "python3"
  },
  "language_info": {
   "codemirror_mode": {
    "name": "ipython",
    "version": 3
   },
   "file_extension": ".py",
   "mimetype": "text/x-python",
   "name": "python",
   "nbconvert_exporter": "python",
   "pygments_lexer": "ipython3",
   "version": "3.9.12"
  }
 },
 "nbformat": 4,
 "nbformat_minor": 5
}
